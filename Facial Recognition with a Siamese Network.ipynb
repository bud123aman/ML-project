{
 "cells": [
  {
   "cell_type": "code",
   "execution_count": 2,
   "id": "bd5b0f13-602a-4729-81a1-866f25c82e70",
   "metadata": {},
   "outputs": [],
   "source": [
    "#import standard dependencies\n",
    "import cv2\n",
    "import os\n",
    "import random\n",
    "import numpy as np\n",
    "import matplotlib.pyplot as plt"
   ]
  },
  {
   "cell_type": "code",
   "execution_count": 3,
   "id": "4dc93606-da7d-494c-abae-e67d3fbcade3",
   "metadata": {},
   "outputs": [],
   "source": [
    "from tensorflow.keras.models import Model\n",
    "from tensorflow.keras.layers import Layer,Conv2D,Dense,MaxPooling2D,Input,Flatten\n",
    "import tensorflow as tf"
   ]
  },
  {
   "cell_type": "code",
   "execution_count": 5,
   "id": "e876f953-2155-4918-9f59-b42427c74aa6",
   "metadata": {},
   "outputs": [],
   "source": [
    "#Setup paths\n",
    "POS_PATH=os.path.join('data','positive')\n",
    "NEG_PATH=os.path.join('data','negative')\n",
    "ANC_PATH=os.path.join('data','anchor')"
   ]
  },
  {
   "cell_type": "code",
   "execution_count": 88,
   "id": "7978adc2-96fa-4922-9f20-3fef80a662bc",
   "metadata": {
    "collapsed": true,
    "jupyter": {
     "outputs_hidden": true
    },
    "scrolled": true
   },
   "outputs": [
    {
     "ename": "FileExistsError",
     "evalue": "[Errno 17] File exists: 'data/positive'",
     "output_type": "error",
     "traceback": [
      "\u001b[0;31m---------------------------------------------------------------------------\u001b[0m",
      "\u001b[0;31mFileExistsError\u001b[0m                           Traceback (most recent call last)",
      "Cell \u001b[0;32mIn[88], line 2\u001b[0m\n\u001b[1;32m      1\u001b[0m \u001b[38;5;66;03m#Make the Directories\u001b[39;00m\n\u001b[0;32m----> 2\u001b[0m os\u001b[38;5;241m.\u001b[39mmakedirs(POS_PATH)\n\u001b[1;32m      3\u001b[0m os\u001b[38;5;241m.\u001b[39mmakedirs(NEG_PATH)\n\u001b[1;32m      4\u001b[0m os\u001b[38;5;241m.\u001b[39mmakedirs(ANC_PATH)\n",
      "File \u001b[0;32m<frozen os>:225\u001b[0m, in \u001b[0;36mmakedirs\u001b[0;34m(name, mode, exist_ok)\u001b[0m\n",
      "\u001b[0;31mFileExistsError\u001b[0m: [Errno 17] File exists: 'data/positive'"
     ]
    }
   ],
   "source": [
    "#Make the Directories\n",
    "os.makedirs(POS_PATH)\n",
    "os.makedirs(NEG_PATH)\n",
    "os.makedirs(ANC_PATH)"
   ]
  },
  {
   "cell_type": "code",
   "execution_count": 90,
   "id": "7fd312de-1bc5-4c6c-b396-6a14f38f1b5f",
   "metadata": {
    "collapsed": true,
    "jupyter": {
     "outputs_hidden": true
    }
   },
   "outputs": [
    {
     "ename": "FileNotFoundError",
     "evalue": "[Errno 2] No such file or directory: 'lfw'",
     "output_type": "error",
     "traceback": [
      "\u001b[0;31m---------------------------------------------------------------------------\u001b[0m",
      "\u001b[0;31mFileNotFoundError\u001b[0m                         Traceback (most recent call last)",
      "Cell \u001b[0;32mIn[90], line 2\u001b[0m\n\u001b[1;32m      1\u001b[0m \u001b[38;5;66;03m# Move LFW images to the following repository data/negative\u001b[39;00m\n\u001b[0;32m----> 2\u001b[0m \u001b[38;5;28;01mfor\u001b[39;00m directory \u001b[38;5;129;01min\u001b[39;00m os\u001b[38;5;241m.\u001b[39mlistdir(\u001b[38;5;124m'\u001b[39m\u001b[38;5;124mlfw\u001b[39m\u001b[38;5;124m'\u001b[39m):\n\u001b[1;32m      3\u001b[0m     subdirectory_path \u001b[38;5;241m=\u001b[39m os\u001b[38;5;241m.\u001b[39mpath\u001b[38;5;241m.\u001b[39mjoin(\u001b[38;5;124m'\u001b[39m\u001b[38;5;124mlfw\u001b[39m\u001b[38;5;124m'\u001b[39m, directory)\n\u001b[1;32m      4\u001b[0m     \u001b[38;5;28;01mif\u001b[39;00m os\u001b[38;5;241m.\u001b[39mpath\u001b[38;5;241m.\u001b[39misdir(subdirectory_path):\n",
      "\u001b[0;31mFileNotFoundError\u001b[0m: [Errno 2] No such file or directory: 'lfw'"
     ]
    }
   ],
   "source": [
    "# Move LFW images to the following repository data/negative\n",
    "for directory in os.listdir('lfw'):\n",
    "    subdirectory_path = os.path.join('lfw', directory)\n",
    "    if os.path.isdir(subdirectory_path):\n",
    "        for file in os.listdir(subdirectory_path):\n",
    "            EX_PATH=os.path.join(subdirectory_path, file)\n",
    "            NEW_PATH=os.path.join(NEG_PATH, file)\n",
    "            os.replace(EX_PATH,NEW_PATH)"
   ]
  },
  {
   "cell_type": "code",
   "execution_count": 8,
   "id": "e2d72d58-d38e-4428-ade0-68a46480430a",
   "metadata": {},
   "outputs": [],
   "source": [
    "#import uuid library to generate unique image names\n",
    "import uuid"
   ]
  },
  {
   "cell_type": "code",
   "execution_count": 10,
   "id": "776855ff-a2ba-40d5-abb2-f6d7e81cbd0d",
   "metadata": {},
   "outputs": [],
   "source": [
    "#Establish a connection to the webcam \n",
    "cap=cv2.VideoCapture(0)\n",
    "while cap.isOpened():\n",
    "    ret, frame=cap.read()\n",
    "    #cut down frame to 250x250 px\n",
    "    frame=frame[100:100+250,600:600+250, :]\n",
    "    #collect anchors\n",
    "    if cv2.waitKey(1) & 0XFF==ord('a'):\n",
    "        # Create the unique file path\n",
    "        imgname=os.path.join(ANC_PATH, '{}.jpg'.format(uuid.uuid1()))\n",
    "        #Write out anchor image\n",
    "        cv2.imwrite(imgname, frame)\n",
    " \n",
    "    #collect positives\n",
    "    if cv2.waitKey(1) & 0XFF==ord('p'):\n",
    "        #Create the unique file path\n",
    "        imgname=os.path.join(POS_PATH,'{}.jpg'.format(uuid.uuid1()))\n",
    "        #writeout positive image\n",
    "        cv2.imwrite(imgname, frame)\n",
    "        \n",
    "    #show image back to screen\n",
    "    cv2.imshow('Image Collection',frame)\n",
    "    if cv2.waitKey(1) & 0XFF == ord('q'):\n",
    "        break\n",
    "cap.release()\n",
    "cv2.destroyAllWindows()\n"
   ]
  },
  {
   "cell_type": "code",
   "execution_count": 12,
   "id": "bbe5572e-6d59-4fff-94f7-bb4787e8e625",
   "metadata": {},
   "outputs": [],
   "source": [
    "#plt.imshow(frame[100:100+250,600:600+250, :])"
   ]
  },
  {
   "cell_type": "code",
   "execution_count": 14,
   "id": "c0bca444-3877-421b-aae2-253c017e1b9e",
   "metadata": {},
   "outputs": [],
   "source": [
    "#get image directories\n",
    "anchor=tf.data.Dataset.list_files(ANC_PATH+'/*.jpg').take(400)\n",
    "positive=tf.data.Dataset.list_files(POS_PATH+'/*.jpg').take(400)\n",
    "negative=tf.data.Dataset.list_files(NEG_PATH+'/*.jpg').take(20000)"
   ]
  },
  {
   "cell_type": "code",
   "execution_count": 16,
   "id": "67690c30-7be5-4338-a2d8-bea8511aafda",
   "metadata": {},
   "outputs": [],
   "source": [
    "dir_test=anchor.as_numpy_iterator()"
   ]
  },
  {
   "cell_type": "code",
   "execution_count": 18,
   "id": "54fbc343-db62-47ec-9be2-173944c2a61a",
   "metadata": {},
   "outputs": [
    {
     "name": "stdout",
     "output_type": "stream",
     "text": [
      "b'data/anchor/1d6de3e8-dfe6-11ef-a856-de1356da0133.jpg'\n"
     ]
    }
   ],
   "source": [
    "print(dir_test.next())"
   ]
  },
  {
   "cell_type": "code",
   "execution_count": 20,
   "id": "28e20e82-eeec-464c-8fe7-fa9fcd7a766e",
   "metadata": {},
   "outputs": [],
   "source": [
    "def preprocess(file_path):\n",
    "    #read in image from file path\n",
    "    byte_img=tf.io.read_file(file_path)\n",
    "    #Load in the image\n",
    "    img=tf.io.decode_jpeg(byte_img)\n",
    "    #pre-processing steps- resizing the image to be 100x100x3\n",
    "    img=tf.image.resize(img,(100,100))\n",
    "    #scale the image to be 0 and 1\n",
    "    img=img/255.0\n",
    "    return img"
   ]
  },
  {
   "cell_type": "code",
   "execution_count": 22,
   "id": "97c9847e-1d05-4583-9e9e-7fd1850ae64c",
   "metadata": {},
   "outputs": [
    {
     "data": {
      "text/plain": [
       "<matplotlib.image.AxesImage at 0x28adff2c0>"
      ]
     },
     "execution_count": 22,
     "metadata": {},
     "output_type": "execute_result"
    },
    {
     "data": {
      "image/png": "[encoded data removed]",
      "text/plain": [
       "<Figure size 640x480 with 1 Axes>"
      ]
     },
     "metadata": {},
     "output_type": "display_data"
    }
   ],
   "source": [
    "img=preprocess(b'data/anchor/b6e46b7e-dfe5-11ef-a856-de1356da0133.jpg')\n",
    "plt.imshow(img)"
   ]
  },
  {
   "cell_type": "code",
   "execution_count": 24,
   "id": "4f63d265-1e58-4066-944f-447cd73a1947",
   "metadata": {},
   "outputs": [],
   "source": [
    "#(anchor,positive)=>1,1,1,1,1\n",
    "#(anchor,negative)=0,0,0,0,0"
   ]
  },
  {
   "cell_type": "code",
   "execution_count": 455,
   "id": "bd7d42ad-b407-4d50-a5aa-6dda799c5237",
   "metadata": {},
   "outputs": [
    {
     "data": {
      "text/plain": [
       "<tf.Tensor: shape=(400,), dtype=float32, numpy=\n",
       "array([1., 1., 1., 1., 1., 1., 1., 1., 1., 1., 1., 1., 1., 1., 1., 1., 1.,\n",
       "       1., 1., 1., 1., 1., 1., 1., 1., 1., 1., 1., 1., 1., 1., 1., 1., 1.,\n",
       "       1., 1., 1., 1., 1., 1., 1., 1., 1., 1., 1., 1., 1., 1., 1., 1., 1.,\n",
       "       1., 1., 1., 1., 1., 1., 1., 1., 1., 1., 1., 1., 1., 1., 1., 1., 1.,\n",
       "       1., 1., 1., 1., 1., 1., 1., 1., 1., 1., 1., 1., 1., 1., 1., 1., 1.,\n",
       "       1., 1., 1., 1., 1., 1., 1., 1., 1., 1., 1., 1., 1., 1., 1., 1., 1.,\n",
       "       1., 1., 1., 1., 1., 1., 1., 1., 1., 1., 1., 1., 1., 1., 1., 1., 1.,\n",
       "       1., 1., 1., 1., 1., 1., 1., 1., 1., 1., 1., 1., 1., 1., 1., 1., 1.,\n",
       "       1., 1., 1., 1., 1., 1., 1., 1., 1., 1., 1., 1., 1., 1., 1., 1., 1.,\n",
       "       1., 1., 1., 1., 1., 1., 1., 1., 1., 1., 1., 1., 1., 1., 1., 1., 1.,\n",
       "       1., 1., 1., 1., 1., 1., 1., 1., 1., 1., 1., 1., 1., 1., 1., 1., 1.,\n",
       "       1., 1., 1., 1., 1., 1., 1., 1., 1., 1., 1., 1., 1., 1., 1., 1., 1.,\n",
       "       1., 1., 1., 1., 1., 1., 1., 1., 1., 1., 1., 1., 1., 1., 1., 1., 1.,\n",
       "       1., 1., 1., 1., 1., 1., 1., 1., 1., 1., 1., 1., 1., 1., 1., 1., 1.,\n",
       "       1., 1., 1., 1., 1., 1., 1., 1., 1., 1., 1., 1., 1., 1., 1., 1., 1.,\n",
       "       1., 1., 1., 1., 1., 1., 1., 1., 1., 1., 1., 1., 1., 1., 1., 1., 1.,\n",
       "       1., 1., 1., 1., 1., 1., 1., 1., 1., 1., 1., 1., 1., 1., 1., 1., 1.,\n",
       "       1., 1., 1., 1., 1., 1., 1., 1., 1., 1., 1., 1., 1., 1., 1., 1., 1.,\n",
       "       1., 1., 1., 1., 1., 1., 1., 1., 1., 1., 1., 1., 1., 1., 1., 1., 1.,\n",
       "       1., 1., 1., 1., 1., 1., 1., 1., 1., 1., 1., 1., 1., 1., 1., 1., 1.,\n",
       "       1., 1., 1., 1., 1., 1., 1., 1., 1., 1., 1., 1., 1., 1., 1., 1., 1.,\n",
       "       1., 1., 1., 1., 1., 1., 1., 1., 1., 1., 1., 1., 1., 1., 1., 1., 1.,\n",
       "       1., 1., 1., 1., 1., 1., 1., 1., 1., 1., 1., 1., 1., 1., 1., 1., 1.,\n",
       "       1., 1., 1., 1., 1., 1., 1., 1., 1.], dtype=float32)>"
      ]
     },
     "execution_count": 455,
     "metadata": {},
     "output_type": "execute_result"
    }
   ],
   "source": [
    "tf.ones(len(anchor))"
   ]
  },
  {
   "cell_type": "code",
   "execution_count": 28,
   "id": "d3c19d5f-5e28-4fc1-8239-d975f6006691",
   "metadata": {},
   "outputs": [],
   "source": [
    "positives=tf.data.Dataset.zip((anchor,positive,tf.data.Dataset.from_tensor_slices(tf.ones(len(anchor)))))\n",
    "negatives=tf.data.Dataset.zip((anchor,negative,tf.data.Dataset.from_tensor_slices(tf.ones(len(anchor)))))\n",
    "data=positives.concatenate(negatives)"
   ]
  },
  {
   "cell_type": "code",
   "execution_count": 30,
   "id": "adc6bbf9-30b6-4c61-9ea0-05d4385d302e",
   "metadata": {},
   "outputs": [],
   "source": [
    "samples =data.as_numpy_iterator()"
   ]
  },
  {
   "cell_type": "code",
   "execution_count": 32,
   "id": "848d5db3-d8de-4dd4-8cd4-a6e359def0e7",
   "metadata": {},
   "outputs": [],
   "source": [
    "exampple=samples.next()"
   ]
  },
  {
   "cell_type": "code",
   "execution_count": 34,
   "id": "0a94db9e-ddce-4feb-8b54-0aaba009465d",
   "metadata": {},
   "outputs": [
    {
     "data": {
      "text/plain": [
       "(b'data/anchor/7377bb34-dfe5-11ef-a856-de1356da0133.jpg',\n",
       " b'data/positive/927dd774-dfe6-11ef-a856-de1356da0133.jpg',\n",
       " 1.0)"
      ]
     },
     "execution_count": 34,
     "metadata": {},
     "output_type": "execute_result"
    }
   ],
   "source": [
    "exampple"
   ]
  },
  {
   "cell_type": "code",
   "execution_count": 36,
   "id": "16a9db14-5d40-4486-9b10-c62ae5062cc3",
   "metadata": {},
   "outputs": [],
   "source": [
    "def preprocess_twin(input_img,validation_img,label):\n",
    "    return(preprocess(input_img),preprocess(validation_img),label)"
   ]
  },
  {
   "cell_type": "code",
   "execution_count": 38,
   "id": "67143f44-3eee-415e-9070-3bc85fe23370",
   "metadata": {},
   "outputs": [],
   "source": [
    "res=preprocess_twin(*exampple)"
   ]
  },
  {
   "cell_type": "code",
   "execution_count": 457,
   "id": "399f532e-6fcd-4288-9daa-d5c11fe663b7",
   "metadata": {},
   "outputs": [
    {
     "data": {
      "text/plain": [
       "<matplotlib.image.AxesImage at 0x1711395e0>"
      ]
     },
     "execution_count": 457,
     "metadata": {},
     "output_type": "execute_result"
    },
    {
     "data": {
      "image/png": "[encoded data removed]",
      "text/plain": [
       "<Figure size 640x480 with 1 Axes>"
      ]
     },
     "metadata": {},
     "output_type": "display_data"
    }
   ],
   "source": [
    "plt.imshow(res[1])"
   ]
  },
  {
   "cell_type": "code",
   "execution_count": 42,
   "id": "14b71a91-0133-4313-b53c-3bda2c57086c",
   "metadata": {},
   "outputs": [
    {
     "data": {
      "text/plain": [
       "1.0"
      ]
     },
     "execution_count": 42,
     "metadata": {},
     "output_type": "execute_result"
    }
   ],
   "source": [
    "res[2]"
   ]
  },
  {
   "cell_type": "code",
   "execution_count": 44,
   "id": "d3d9d546-000e-4ec8-914e-6ca1eebcfc5e",
   "metadata": {},
   "outputs": [],
   "source": [
    "#Build dataloader pipeline\n",
    "data=data.map(preprocess_twin)\n",
    "data=data.cache()\n",
    "data=data.shuffle(buffer_size=1024)"
   ]
  },
  {
   "cell_type": "code",
   "execution_count": 46,
   "id": "61145bf3-e3e4-4635-8f97-bb2d8d83258d",
   "metadata": {},
   "outputs": [
    {
     "data": {
      "text/plain": [
       "560"
      ]
     },
     "execution_count": 46,
     "metadata": {},
     "output_type": "execute_result"
    }
   ],
   "source": [
    "round(len(data)*.7)"
   ]
  },
  {
   "cell_type": "code",
   "execution_count": 153,
   "id": "58fd5c78-a880-4602-8636-be30ddf48b66",
   "metadata": {},
   "outputs": [
    {
     "name": "stdout",
     "output_type": "stream",
     "text": [
      "800\n"
     ]
    }
   ],
   "source": [
    "print(len(data))"
   ]
  },
  {
   "cell_type": "code",
   "execution_count": 48,
   "id": "e876b1f8-ac4f-4ad9-a686-851f4da0cc7a",
   "metadata": {},
   "outputs": [],
   "source": [
    "#Training Partition\n",
    "train_data=data.take(round(len(data)*.7))\n",
    "train_data=train_data.batch(16)\n",
    "train_data=train_data.prefetch(8)"
   ]
  },
  {
   "cell_type": "code",
   "execution_count": 50,
   "id": "b05d7522-a77a-4eed-a84f-d24ea8d23b96",
   "metadata": {},
   "outputs": [],
   "source": [
    "train_samples=train_data.as_numpy_iterator()"
   ]
  },
  {
   "cell_type": "code",
   "execution_count": 52,
   "id": "0c23c5c2-d785-46e5-97d0-bb6213fe7949",
   "metadata": {},
   "outputs": [],
   "source": [
    "train_sample=train_samples.next()"
   ]
  },
  {
   "cell_type": "code",
   "execution_count": 54,
   "id": "71f19d53-3189-4cfa-b19c-d7bddc39fd2b",
   "metadata": {},
   "outputs": [
    {
     "data": {
      "text/plain": [
       "16"
      ]
     },
     "execution_count": 54,
     "metadata": {},
     "output_type": "execute_result"
    }
   ],
   "source": [
    "len(train_sample[0])"
   ]
  },
  {
   "cell_type": "code",
   "execution_count": 56,
   "id": "e7311897-5512-4123-a5bd-5c8b5d1c26e1",
   "metadata": {},
   "outputs": [],
   "source": [
    "#Testing partition\n",
    "test_data=data.skip(round(len(data)*.3))\n",
    "test_data=test_data.take(round(len(data)*.3))\n",
    "test_data=test_data.batch(16)\n",
    "test_data=test_data.prefetch(8)"
   ]
  },
  {
   "cell_type": "code",
   "execution_count": 58,
   "id": "768f68e1-2081-48fc-8635-e9b60bc661ea",
   "metadata": {},
   "outputs": [],
   "source": [
    "inp=Input(shape=(100,100,3),name='input_image')"
   ]
  },
  {
   "cell_type": "code",
   "execution_count": 60,
   "id": "f17ee668-1c69-48f7-82a0-cb331863f6be",
   "metadata": {},
   "outputs": [],
   "source": [
    "c1=Conv2D(64,(10,10),activation='relu')(inp)\n",
    "m1=MaxPooling2D(64,(2,2),padding='same')(c1)"
   ]
  },
  {
   "cell_type": "code",
   "execution_count": 62,
   "id": "262142d9-988d-4602-a9c3-9159f55beb62",
   "metadata": {},
   "outputs": [],
   "source": [
    "c2=Conv2D(128,(7,7),activation='relu')(m1)\n",
    "m2=MaxPooling2D(64,(2,2),padding='same')(c2)"
   ]
  },
  {
   "cell_type": "code",
   "execution_count": 64,
   "id": "78a40c87-2db5-4040-a8f2-6e8fbce4ebdd",
   "metadata": {},
   "outputs": [],
   "source": [
    "c3=Conv2D(128,(4,4),activation='relu')(m2)\n",
    "m3=MaxPooling2D(64,(2,2),padding='same')(c3) "
   ]
  },
  {
   "cell_type": "code",
   "execution_count": 66,
   "id": "9a8a73b7-e545-4223-a8fc-ca3e0b16d628",
   "metadata": {},
   "outputs": [],
   "source": [
    "c4=Conv2D(256,(4,4),activation='relu')(m3)\n",
    "f1=Flatten()(c4)\n",
    "d1=Dense(4096, activation='sigmoid')(f1)"
   ]
  },
  {
   "cell_type": "code",
   "execution_count": 68,
   "id": "b1171d1d-1a4d-4483-b078-a12dfb4da5b1",
   "metadata": {},
   "outputs": [],
   "source": [
    "mod=Model(inputs=[inp],outputs=[d1],name='embedding')"
   ]
  },
  {
   "cell_type": "code",
   "execution_count": 459,
   "id": "60edd02a-b30f-4a31-9caf-46f54c13ccf7",
   "metadata": {},
   "outputs": [
    {
     "data": {
      "text/html": [
       "<pre style=\"white-space:pre;overflow-x:auto;line-height:normal;font-family:Menlo,'DejaVu Sans Mono',consolas,'Courier New',monospace\"><span style=\"font-weight: bold\">Model: \"embedding\"</span>\n",
       "</pre>\n"
      ],
      "text/plain": [
       "\u001b[1mModel: \"embedding\"\u001b[0m\n"
      ]
     },
     "metadata": {},
     "output_type": "display_data"
    },
    {
     "data": {
      "text/html": [
       "<pre style=\"white-space:pre;overflow-x:auto;line-height:normal;font-family:Menlo,'DejaVu Sans Mono',consolas,'Courier New',monospace\">┏━━━━━━━━━━━━━━━━━━━━━━━━━━━━━━━━━┳━━━━━━━━━━━━━━━━━━━━━━━━┳━━━━━━━━━━━━━━━┓\n",
       "┃<span style=\"font-weight: bold\"> Layer (type)                    </span>┃<span style=\"font-weight: bold\"> Output Shape           </span>┃<span style=\"font-weight: bold\">       Param # </span>┃\n",
       "┡━━━━━━━━━━━━━━━━━━━━━━━━━━━━━━━━━╇━━━━━━━━━━━━━━━━━━━━━━━━╇━━━━━━━━━━━━━━━┩\n",
       "│ input_image (<span style=\"color: #0087ff; text-decoration-color: #0087ff\">InputLayer</span>)        │ (<span style=\"color: #00d7ff; text-decoration-color: #00d7ff\">None</span>, <span style=\"color: #00af00; text-decoration-color: #00af00\">100</span>, <span style=\"color: #00af00; text-decoration-color: #00af00\">100</span>, <span style=\"color: #00af00; text-decoration-color: #00af00\">3</span>)    │             <span style=\"color: #00af00; text-decoration-color: #00af00\">0</span> │\n",
       "├─────────────────────────────────┼────────────────────────┼───────────────┤\n",
       "│ conv2d (<span style=\"color: #0087ff; text-decoration-color: #0087ff\">Conv2D</span>)                 │ (<span style=\"color: #00d7ff; text-decoration-color: #00d7ff\">None</span>, <span style=\"color: #00af00; text-decoration-color: #00af00\">91</span>, <span style=\"color: #00af00; text-decoration-color: #00af00\">91</span>, <span style=\"color: #00af00; text-decoration-color: #00af00\">64</span>)     │        <span style=\"color: #00af00; text-decoration-color: #00af00\">19,264</span> │\n",
       "├─────────────────────────────────┼────────────────────────┼───────────────┤\n",
       "│ max_pooling2d (<span style=\"color: #0087ff; text-decoration-color: #0087ff\">MaxPooling2D</span>)    │ (<span style=\"color: #00d7ff; text-decoration-color: #00d7ff\">None</span>, <span style=\"color: #00af00; text-decoration-color: #00af00\">46</span>, <span style=\"color: #00af00; text-decoration-color: #00af00\">46</span>, <span style=\"color: #00af00; text-decoration-color: #00af00\">64</span>)     │             <span style=\"color: #00af00; text-decoration-color: #00af00\">0</span> │\n",
       "├─────────────────────────────────┼────────────────────────┼───────────────┤\n",
       "│ conv2d_1 (<span style=\"color: #0087ff; text-decoration-color: #0087ff\">Conv2D</span>)               │ (<span style=\"color: #00d7ff; text-decoration-color: #00d7ff\">None</span>, <span style=\"color: #00af00; text-decoration-color: #00af00\">40</span>, <span style=\"color: #00af00; text-decoration-color: #00af00\">40</span>, <span style=\"color: #00af00; text-decoration-color: #00af00\">128</span>)    │       <span style=\"color: #00af00; text-decoration-color: #00af00\">401,536</span> │\n",
       "├─────────────────────────────────┼────────────────────────┼───────────────┤\n",
       "│ max_pooling2d_1 (<span style=\"color: #0087ff; text-decoration-color: #0087ff\">MaxPooling2D</span>)  │ (<span style=\"color: #00d7ff; text-decoration-color: #00d7ff\">None</span>, <span style=\"color: #00af00; text-decoration-color: #00af00\">20</span>, <span style=\"color: #00af00; text-decoration-color: #00af00\">20</span>, <span style=\"color: #00af00; text-decoration-color: #00af00\">128</span>)    │             <span style=\"color: #00af00; text-decoration-color: #00af00\">0</span> │\n",
       "├─────────────────────────────────┼────────────────────────┼───────────────┤\n",
       "│ conv2d_2 (<span style=\"color: #0087ff; text-decoration-color: #0087ff\">Conv2D</span>)               │ (<span style=\"color: #00d7ff; text-decoration-color: #00d7ff\">None</span>, <span style=\"color: #00af00; text-decoration-color: #00af00\">17</span>, <span style=\"color: #00af00; text-decoration-color: #00af00\">17</span>, <span style=\"color: #00af00; text-decoration-color: #00af00\">128</span>)    │       <span style=\"color: #00af00; text-decoration-color: #00af00\">262,272</span> │\n",
       "├─────────────────────────────────┼────────────────────────┼───────────────┤\n",
       "│ max_pooling2d_2 (<span style=\"color: #0087ff; text-decoration-color: #0087ff\">MaxPooling2D</span>)  │ (<span style=\"color: #00d7ff; text-decoration-color: #00d7ff\">None</span>, <span style=\"color: #00af00; text-decoration-color: #00af00\">9</span>, <span style=\"color: #00af00; text-decoration-color: #00af00\">9</span>, <span style=\"color: #00af00; text-decoration-color: #00af00\">128</span>)      │             <span style=\"color: #00af00; text-decoration-color: #00af00\">0</span> │\n",
       "├─────────────────────────────────┼────────────────────────┼───────────────┤\n",
       "│ conv2d_3 (<span style=\"color: #0087ff; text-decoration-color: #0087ff\">Conv2D</span>)               │ (<span style=\"color: #00d7ff; text-decoration-color: #00d7ff\">None</span>, <span style=\"color: #00af00; text-decoration-color: #00af00\">6</span>, <span style=\"color: #00af00; text-decoration-color: #00af00\">6</span>, <span style=\"color: #00af00; text-decoration-color: #00af00\">256</span>)      │       <span style=\"color: #00af00; text-decoration-color: #00af00\">524,544</span> │\n",
       "├─────────────────────────────────┼────────────────────────┼───────────────┤\n",
       "│ flatten (<span style=\"color: #0087ff; text-decoration-color: #0087ff\">Flatten</span>)               │ (<span style=\"color: #00d7ff; text-decoration-color: #00d7ff\">None</span>, <span style=\"color: #00af00; text-decoration-color: #00af00\">9216</span>)           │             <span style=\"color: #00af00; text-decoration-color: #00af00\">0</span> │\n",
       "├─────────────────────────────────┼────────────────────────┼───────────────┤\n",
       "│ dense (<span style=\"color: #0087ff; text-decoration-color: #0087ff\">Dense</span>)                   │ (<span style=\"color: #00d7ff; text-decoration-color: #00d7ff\">None</span>, <span style=\"color: #00af00; text-decoration-color: #00af00\">4096</span>)           │    <span style=\"color: #00af00; text-decoration-color: #00af00\">37,752,832</span> │\n",
       "└─────────────────────────────────┴────────────────────────┴───────────────┘\n",
       "</pre>\n"
      ],
      "text/plain": [
       "┏━━━━━━━━━━━━━━━━━━━━━━━━━━━━━━━━━┳━━━━━━━━━━━━━━━━━━━━━━━━┳━━━━━━━━━━━━━━━┓\n",
       "┃\u001b[1m \u001b[0m\u001b[1mLayer (type)                   \u001b[0m\u001b[1m \u001b[0m┃\u001b[1m \u001b[0m\u001b[1mOutput Shape          \u001b[0m\u001b[1m \u001b[0m┃\u001b[1m \u001b[0m\u001b[1m      Param #\u001b[0m\u001b[1m \u001b[0m┃\n",
       "┡━━━━━━━━━━━━━━━━━━━━━━━━━━━━━━━━━╇━━━━━━━━━━━━━━━━━━━━━━━━╇━━━━━━━━━━━━━━━┩\n",
       "│ input_image (\u001b[38;5;33mInputLayer\u001b[0m)        │ (\u001b[38;5;45mNone\u001b[0m, \u001b[38;5;34m100\u001b[0m, \u001b[38;5;34m100\u001b[0m, \u001b[38;5;34m3\u001b[0m)    │             \u001b[38;5;34m0\u001b[0m │\n",
       "├─────────────────────────────────┼────────────────────────┼───────────────┤\n",
       "│ conv2d (\u001b[38;5;33mConv2D\u001b[0m)                 │ (\u001b[38;5;45mNone\u001b[0m, \u001b[38;5;34m91\u001b[0m, \u001b[38;5;34m91\u001b[0m, \u001b[38;5;34m64\u001b[0m)     │        \u001b[38;5;34m19,264\u001b[0m │\n",
       "├─────────────────────────────────┼────────────────────────┼───────────────┤\n",
       "│ max_pooling2d (\u001b[38;5;33mMaxPooling2D\u001b[0m)    │ (\u001b[38;5;45mNone\u001b[0m, \u001b[38;5;34m46\u001b[0m, \u001b[38;5;34m46\u001b[0m, \u001b[38;5;34m64\u001b[0m)     │             \u001b[38;5;34m0\u001b[0m │\n",
       "├─────────────────────────────────┼────────────────────────┼───────────────┤\n",
       "│ conv2d_1 (\u001b[38;5;33mConv2D\u001b[0m)               │ (\u001b[38;5;45mNone\u001b[0m, \u001b[38;5;34m40\u001b[0m, \u001b[38;5;34m40\u001b[0m, \u001b[38;5;34m128\u001b[0m)    │       \u001b[38;5;34m401,536\u001b[0m │\n",
       "├─────────────────────────────────┼────────────────────────┼───────────────┤\n",
       "│ max_pooling2d_1 (\u001b[38;5;33mMaxPooling2D\u001b[0m)  │ (\u001b[38;5;45mNone\u001b[0m, \u001b[38;5;34m20\u001b[0m, \u001b[38;5;34m20\u001b[0m, \u001b[38;5;34m128\u001b[0m)    │             \u001b[38;5;34m0\u001b[0m │\n",
       "├─────────────────────────────────┼────────────────────────┼───────────────┤\n",
       "│ conv2d_2 (\u001b[38;5;33mConv2D\u001b[0m)               │ (\u001b[38;5;45mNone\u001b[0m, \u001b[38;5;34m17\u001b[0m, \u001b[38;5;34m17\u001b[0m, \u001b[38;5;34m128\u001b[0m)    │       \u001b[38;5;34m262,272\u001b[0m │\n",
       "├─────────────────────────────────┼────────────────────────┼───────────────┤\n",
       "│ max_pooling2d_2 (\u001b[38;5;33mMaxPooling2D\u001b[0m)  │ (\u001b[38;5;45mNone\u001b[0m, \u001b[38;5;34m9\u001b[0m, \u001b[38;5;34m9\u001b[0m, \u001b[38;5;34m128\u001b[0m)      │             \u001b[38;5;34m0\u001b[0m │\n",
       "├─────────────────────────────────┼────────────────────────┼───────────────┤\n",
       "│ conv2d_3 (\u001b[38;5;33mConv2D\u001b[0m)               │ (\u001b[38;5;45mNone\u001b[0m, \u001b[38;5;34m6\u001b[0m, \u001b[38;5;34m6\u001b[0m, \u001b[38;5;34m256\u001b[0m)      │       \u001b[38;5;34m524,544\u001b[0m │\n",
       "├─────────────────────────────────┼────────────────────────┼───────────────┤\n",
       "│ flatten (\u001b[38;5;33mFlatten\u001b[0m)               │ (\u001b[38;5;45mNone\u001b[0m, \u001b[38;5;34m9216\u001b[0m)           │             \u001b[38;5;34m0\u001b[0m │\n",
       "├─────────────────────────────────┼────────────────────────┼───────────────┤\n",
       "│ dense (\u001b[38;5;33mDense\u001b[0m)                   │ (\u001b[38;5;45mNone\u001b[0m, \u001b[38;5;34m4096\u001b[0m)           │    \u001b[38;5;34m37,752,832\u001b[0m │\n",
       "└─────────────────────────────────┴────────────────────────┴───────────────┘\n"
      ]
     },
     "metadata": {},
     "output_type": "display_data"
    },
    {
     "data": {
      "text/html": [
       "<pre style=\"white-space:pre;overflow-x:auto;line-height:normal;font-family:Menlo,'DejaVu Sans Mono',consolas,'Courier New',monospace\"><span style=\"font-weight: bold\"> Total params: </span><span style=\"color: #00af00; text-decoration-color: #00af00\">38,960,448</span> (148.62 MB)\n",
       "</pre>\n"
      ],
      "text/plain": [
       "\u001b[1m Total params: \u001b[0m\u001b[38;5;34m38,960,448\u001b[0m (148.62 MB)\n"
      ]
     },
     "metadata": {},
     "output_type": "display_data"
    },
    {
     "data": {
      "text/html": [
       "<pre style=\"white-space:pre;overflow-x:auto;line-height:normal;font-family:Menlo,'DejaVu Sans Mono',consolas,'Courier New',monospace\"><span style=\"font-weight: bold\"> Trainable params: </span><span style=\"color: #00af00; text-decoration-color: #00af00\">38,960,448</span> (148.62 MB)\n",
       "</pre>\n"
      ],
      "text/plain": [
       "\u001b[1m Trainable params: \u001b[0m\u001b[38;5;34m38,960,448\u001b[0m (148.62 MB)\n"
      ]
     },
     "metadata": {},
     "output_type": "display_data"
    },
    {
     "data": {
      "text/html": [
       "<pre style=\"white-space:pre;overflow-x:auto;line-height:normal;font-family:Menlo,'DejaVu Sans Mono',consolas,'Courier New',monospace\"><span style=\"font-weight: bold\"> Non-trainable params: </span><span style=\"color: #00af00; text-decoration-color: #00af00\">0</span> (0.00 B)\n",
       "</pre>\n"
      ],
      "text/plain": [
       "\u001b[1m Non-trainable params: \u001b[0m\u001b[38;5;34m0\u001b[0m (0.00 B)\n"
      ]
     },
     "metadata": {},
     "output_type": "display_data"
    }
   ],
   "source": [
    "mod.summary()"
   ]
  },
  {
   "cell_type": "code",
   "execution_count": 72,
   "id": "119b5940-f51c-4e95-bc45-dc93095dccb9",
   "metadata": {},
   "outputs": [],
   "source": [
    "def make_embedding():\n",
    "    inp=Input(shape=(100,100,3),name='input_image')\n",
    "    #first block\n",
    "    c1=Conv2D(64,(10,10),activation='relu')(inp)\n",
    "    m1=MaxPooling2D(64,(2,2),padding='same')(c1)\n",
    "    #second block\n",
    "    c2=Conv2D(128,(7,7),activation='relu')(m1)\n",
    "    m2=MaxPooling2D(64,(2,2),padding='same')(c2)\n",
    "    #third block\n",
    "    c3=Conv2D(128,(4,4),activation='relu')(m2)\n",
    "    m3=MaxPooling2D(64,(2,2),padding='same')(c3)    \n",
    "    #final embedding block\n",
    "    c4=Conv2D(256,(4,4),activation='relu')(m3)\n",
    "    f1=Flatten()(c4)\n",
    "    d1=Dense(4096, activation='sigmoid')(f1)\n",
    "    \n",
    "   # return Model(inputs=[inp],outputs=[d1],name='embedding')\n",
    "    return Model(inputs=[inp],outputs=d1,name='embedding')"
   ]
  },
  {
   "cell_type": "code",
   "execution_count": 74,
   "id": "2566077f-3f89-4d05-91cc-d5f3ad0d4115",
   "metadata": {},
   "outputs": [],
   "source": [
    "model=make_embedding()"
   ]
  },
  {
   "cell_type": "code",
   "execution_count": 76,
   "id": "3994bf8a-6260-484f-86cc-bb096e7b6973",
   "metadata": {},
   "outputs": [
    {
     "data": {
      "text/html": [
       "<pre style=\"white-space:pre;overflow-x:auto;line-height:normal;font-family:Menlo,'DejaVu Sans Mono',consolas,'Courier New',monospace\"><span style=\"font-weight: bold\">Model: \"embedding\"</span>\n",
       "</pre>\n"
      ],
      "text/plain": [
       "\u001b[1mModel: \"embedding\"\u001b[0m\n"
      ]
     },
     "metadata": {},
     "output_type": "display_data"
    },
    {
     "data": {
      "text/html": [
       "<pre style=\"white-space:pre;overflow-x:auto;line-height:normal;font-family:Menlo,'DejaVu Sans Mono',consolas,'Courier New',monospace\">┏━━━━━━━━━━━━━━━━━━━━━━━━━━━━━━━━━┳━━━━━━━━━━━━━━━━━━━━━━━━┳━━━━━━━━━━━━━━━┓\n",
       "┃<span style=\"font-weight: bold\"> Layer (type)                    </span>┃<span style=\"font-weight: bold\"> Output Shape           </span>┃<span style=\"font-weight: bold\">       Param # </span>┃\n",
       "┡━━━━━━━━━━━━━━━━━━━━━━━━━━━━━━━━━╇━━━━━━━━━━━━━━━━━━━━━━━━╇━━━━━━━━━━━━━━━┩\n",
       "│ input_image (<span style=\"color: #0087ff; text-decoration-color: #0087ff\">InputLayer</span>)        │ (<span style=\"color: #00d7ff; text-decoration-color: #00d7ff\">None</span>, <span style=\"color: #00af00; text-decoration-color: #00af00\">100</span>, <span style=\"color: #00af00; text-decoration-color: #00af00\">100</span>, <span style=\"color: #00af00; text-decoration-color: #00af00\">3</span>)    │             <span style=\"color: #00af00; text-decoration-color: #00af00\">0</span> │\n",
       "├─────────────────────────────────┼────────────────────────┼───────────────┤\n",
       "│ conv2d_4 (<span style=\"color: #0087ff; text-decoration-color: #0087ff\">Conv2D</span>)               │ (<span style=\"color: #00d7ff; text-decoration-color: #00d7ff\">None</span>, <span style=\"color: #00af00; text-decoration-color: #00af00\">91</span>, <span style=\"color: #00af00; text-decoration-color: #00af00\">91</span>, <span style=\"color: #00af00; text-decoration-color: #00af00\">64</span>)     │        <span style=\"color: #00af00; text-decoration-color: #00af00\">19,264</span> │\n",
       "├─────────────────────────────────┼────────────────────────┼───────────────┤\n",
       "│ max_pooling2d_3 (<span style=\"color: #0087ff; text-decoration-color: #0087ff\">MaxPooling2D</span>)  │ (<span style=\"color: #00d7ff; text-decoration-color: #00d7ff\">None</span>, <span style=\"color: #00af00; text-decoration-color: #00af00\">46</span>, <span style=\"color: #00af00; text-decoration-color: #00af00\">46</span>, <span style=\"color: #00af00; text-decoration-color: #00af00\">64</span>)     │             <span style=\"color: #00af00; text-decoration-color: #00af00\">0</span> │\n",
       "├─────────────────────────────────┼────────────────────────┼───────────────┤\n",
       "│ conv2d_5 (<span style=\"color: #0087ff; text-decoration-color: #0087ff\">Conv2D</span>)               │ (<span style=\"color: #00d7ff; text-decoration-color: #00d7ff\">None</span>, <span style=\"color: #00af00; text-decoration-color: #00af00\">40</span>, <span style=\"color: #00af00; text-decoration-color: #00af00\">40</span>, <span style=\"color: #00af00; text-decoration-color: #00af00\">128</span>)    │       <span style=\"color: #00af00; text-decoration-color: #00af00\">401,536</span> │\n",
       "├─────────────────────────────────┼────────────────────────┼───────────────┤\n",
       "│ max_pooling2d_4 (<span style=\"color: #0087ff; text-decoration-color: #0087ff\">MaxPooling2D</span>)  │ (<span style=\"color: #00d7ff; text-decoration-color: #00d7ff\">None</span>, <span style=\"color: #00af00; text-decoration-color: #00af00\">20</span>, <span style=\"color: #00af00; text-decoration-color: #00af00\">20</span>, <span style=\"color: #00af00; text-decoration-color: #00af00\">128</span>)    │             <span style=\"color: #00af00; text-decoration-color: #00af00\">0</span> │\n",
       "├─────────────────────────────────┼────────────────────────┼───────────────┤\n",
       "│ conv2d_6 (<span style=\"color: #0087ff; text-decoration-color: #0087ff\">Conv2D</span>)               │ (<span style=\"color: #00d7ff; text-decoration-color: #00d7ff\">None</span>, <span style=\"color: #00af00; text-decoration-color: #00af00\">17</span>, <span style=\"color: #00af00; text-decoration-color: #00af00\">17</span>, <span style=\"color: #00af00; text-decoration-color: #00af00\">128</span>)    │       <span style=\"color: #00af00; text-decoration-color: #00af00\">262,272</span> │\n",
       "├─────────────────────────────────┼────────────────────────┼───────────────┤\n",
       "│ max_pooling2d_5 (<span style=\"color: #0087ff; text-decoration-color: #0087ff\">MaxPooling2D</span>)  │ (<span style=\"color: #00d7ff; text-decoration-color: #00d7ff\">None</span>, <span style=\"color: #00af00; text-decoration-color: #00af00\">9</span>, <span style=\"color: #00af00; text-decoration-color: #00af00\">9</span>, <span style=\"color: #00af00; text-decoration-color: #00af00\">128</span>)      │             <span style=\"color: #00af00; text-decoration-color: #00af00\">0</span> │\n",
       "├─────────────────────────────────┼────────────────────────┼───────────────┤\n",
       "│ conv2d_7 (<span style=\"color: #0087ff; text-decoration-color: #0087ff\">Conv2D</span>)               │ (<span style=\"color: #00d7ff; text-decoration-color: #00d7ff\">None</span>, <span style=\"color: #00af00; text-decoration-color: #00af00\">6</span>, <span style=\"color: #00af00; text-decoration-color: #00af00\">6</span>, <span style=\"color: #00af00; text-decoration-color: #00af00\">256</span>)      │       <span style=\"color: #00af00; text-decoration-color: #00af00\">524,544</span> │\n",
       "├─────────────────────────────────┼────────────────────────┼───────────────┤\n",
       "│ flatten_1 (<span style=\"color: #0087ff; text-decoration-color: #0087ff\">Flatten</span>)             │ (<span style=\"color: #00d7ff; text-decoration-color: #00d7ff\">None</span>, <span style=\"color: #00af00; text-decoration-color: #00af00\">9216</span>)           │             <span style=\"color: #00af00; text-decoration-color: #00af00\">0</span> │\n",
       "├─────────────────────────────────┼────────────────────────┼───────────────┤\n",
       "│ dense_1 (<span style=\"color: #0087ff; text-decoration-color: #0087ff\">Dense</span>)                 │ (<span style=\"color: #00d7ff; text-decoration-color: #00d7ff\">None</span>, <span style=\"color: #00af00; text-decoration-color: #00af00\">4096</span>)           │    <span style=\"color: #00af00; text-decoration-color: #00af00\">37,752,832</span> │\n",
       "└─────────────────────────────────┴────────────────────────┴───────────────┘\n",
       "</pre>\n"
      ],
      "text/plain": [
       "┏━━━━━━━━━━━━━━━━━━━━━━━━━━━━━━━━━┳━━━━━━━━━━━━━━━━━━━━━━━━┳━━━━━━━━━━━━━━━┓\n",
       "┃\u001b[1m \u001b[0m\u001b[1mLayer (type)                   \u001b[0m\u001b[1m \u001b[0m┃\u001b[1m \u001b[0m\u001b[1mOutput Shape          \u001b[0m\u001b[1m \u001b[0m┃\u001b[1m \u001b[0m\u001b[1m      Param #\u001b[0m\u001b[1m \u001b[0m┃\n",
       "┡━━━━━━━━━━━━━━━━━━━━━━━━━━━━━━━━━╇━━━━━━━━━━━━━━━━━━━━━━━━╇━━━━━━━━━━━━━━━┩\n",
       "│ input_image (\u001b[38;5;33mInputLayer\u001b[0m)        │ (\u001b[38;5;45mNone\u001b[0m, \u001b[38;5;34m100\u001b[0m, \u001b[38;5;34m100\u001b[0m, \u001b[38;5;34m3\u001b[0m)    │             \u001b[38;5;34m0\u001b[0m │\n",
       "├─────────────────────────────────┼────────────────────────┼───────────────┤\n",
       "│ conv2d_4 (\u001b[38;5;33mConv2D\u001b[0m)               │ (\u001b[38;5;45mNone\u001b[0m, \u001b[38;5;34m91\u001b[0m, \u001b[38;5;34m91\u001b[0m, \u001b[38;5;34m64\u001b[0m)     │        \u001b[38;5;34m19,264\u001b[0m │\n",
       "├─────────────────────────────────┼────────────────────────┼───────────────┤\n",
       "│ max_pooling2d_3 (\u001b[38;5;33mMaxPooling2D\u001b[0m)  │ (\u001b[38;5;45mNone\u001b[0m, \u001b[38;5;34m46\u001b[0m, \u001b[38;5;34m46\u001b[0m, \u001b[38;5;34m64\u001b[0m)     │             \u001b[38;5;34m0\u001b[0m │\n",
       "├─────────────────────────────────┼────────────────────────┼───────────────┤\n",
       "│ conv2d_5 (\u001b[38;5;33mConv2D\u001b[0m)               │ (\u001b[38;5;45mNone\u001b[0m, \u001b[38;5;34m40\u001b[0m, \u001b[38;5;34m40\u001b[0m, \u001b[38;5;34m128\u001b[0m)    │       \u001b[38;5;34m401,536\u001b[0m │\n",
       "├─────────────────────────────────┼────────────────────────┼───────────────┤\n",
       "│ max_pooling2d_4 (\u001b[38;5;33mMaxPooling2D\u001b[0m)  │ (\u001b[38;5;45mNone\u001b[0m, \u001b[38;5;34m20\u001b[0m, \u001b[38;5;34m20\u001b[0m, \u001b[38;5;34m128\u001b[0m)    │             \u001b[38;5;34m0\u001b[0m │\n",
       "├─────────────────────────────────┼────────────────────────┼───────────────┤\n",
       "│ conv2d_6 (\u001b[38;5;33mConv2D\u001b[0m)               │ (\u001b[38;5;45mNone\u001b[0m, \u001b[38;5;34m17\u001b[0m, \u001b[38;5;34m17\u001b[0m, \u001b[38;5;34m128\u001b[0m)    │       \u001b[38;5;34m262,272\u001b[0m │\n",
       "├─────────────────────────────────┼────────────────────────┼───────────────┤\n",
       "│ max_pooling2d_5 (\u001b[38;5;33mMaxPooling2D\u001b[0m)  │ (\u001b[38;5;45mNone\u001b[0m, \u001b[38;5;34m9\u001b[0m, \u001b[38;5;34m9\u001b[0m, \u001b[38;5;34m128\u001b[0m)      │             \u001b[38;5;34m0\u001b[0m │\n",
       "├─────────────────────────────────┼────────────────────────┼───────────────┤\n",
       "│ conv2d_7 (\u001b[38;5;33mConv2D\u001b[0m)               │ (\u001b[38;5;45mNone\u001b[0m, \u001b[38;5;34m6\u001b[0m, \u001b[38;5;34m6\u001b[0m, \u001b[38;5;34m256\u001b[0m)      │       \u001b[38;5;34m524,544\u001b[0m │\n",
       "├─────────────────────────────────┼────────────────────────┼───────────────┤\n",
       "│ flatten_1 (\u001b[38;5;33mFlatten\u001b[0m)             │ (\u001b[38;5;45mNone\u001b[0m, \u001b[38;5;34m9216\u001b[0m)           │             \u001b[38;5;34m0\u001b[0m │\n",
       "├─────────────────────────────────┼────────────────────────┼───────────────┤\n",
       "│ dense_1 (\u001b[38;5;33mDense\u001b[0m)                 │ (\u001b[38;5;45mNone\u001b[0m, \u001b[38;5;34m4096\u001b[0m)           │    \u001b[38;5;34m37,752,832\u001b[0m │\n",
       "└─────────────────────────────────┴────────────────────────┴───────────────┘\n"
      ]
     },
     "metadata": {},
     "output_type": "display_data"
    },
    {
     "data": {
      "text/html": [
       "<pre style=\"white-space:pre;overflow-x:auto;line-height:normal;font-family:Menlo,'DejaVu Sans Mono',consolas,'Courier New',monospace\"><span style=\"font-weight: bold\"> Total params: </span><span style=\"color: #00af00; text-decoration-color: #00af00\">38,960,448</span> (148.62 MB)\n",
       "</pre>\n"
      ],
      "text/plain": [
       "\u001b[1m Total params: \u001b[0m\u001b[38;5;34m38,960,448\u001b[0m (148.62 MB)\n"
      ]
     },
     "metadata": {},
     "output_type": "display_data"
    },
    {
     "data": {
      "text/html": [
       "<pre style=\"white-space:pre;overflow-x:auto;line-height:normal;font-family:Menlo,'DejaVu Sans Mono',consolas,'Courier New',monospace\"><span style=\"font-weight: bold\"> Trainable params: </span><span style=\"color: #00af00; text-decoration-color: #00af00\">38,960,448</span> (148.62 MB)\n",
       "</pre>\n"
      ],
      "text/plain": [
       "\u001b[1m Trainable params: \u001b[0m\u001b[38;5;34m38,960,448\u001b[0m (148.62 MB)\n"
      ]
     },
     "metadata": {},
     "output_type": "display_data"
    },
    {
     "data": {
      "text/html": [
       "<pre style=\"white-space:pre;overflow-x:auto;line-height:normal;font-family:Menlo,'DejaVu Sans Mono',consolas,'Courier New',monospace\"><span style=\"font-weight: bold\"> Non-trainable params: </span><span style=\"color: #00af00; text-decoration-color: #00af00\">0</span> (0.00 B)\n",
       "</pre>\n"
      ],
      "text/plain": [
       "\u001b[1m Non-trainable params: \u001b[0m\u001b[38;5;34m0\u001b[0m (0.00 B)\n"
      ]
     },
     "metadata": {},
     "output_type": "display_data"
    }
   ],
   "source": [
    "model.summary()"
   ]
  },
  {
   "cell_type": "code",
   "execution_count": 78,
   "id": "0c64b12f-79b7-45e5-b897-82f79c76a2ef",
   "metadata": {},
   "outputs": [],
   "source": [
    "# Build Distance Layer\n",
    "# Siamese L1 Distance class\n",
    "class L1Dist(Layer):\n",
    "    #Init method - inheritance\n",
    "    def __init__(self,**kwargs):\n",
    "        super().__init__()\n",
    "    # Similarity Calculation\n",
    "    def call(self,input_embedding,validation_embedding):\n",
    "        return tf.math.abs(input_embedding - validation_embedding)"
   ]
  },
  {
   "cell_type": "code",
   "execution_count": 80,
   "id": "d6ef7fd6-4b40-4b99-97fa-f1699c731ba5",
   "metadata": {},
   "outputs": [],
   "source": [
    "l1=L1Dist()"
   ]
  },
  {
   "cell_type": "code",
   "execution_count": 82,
   "id": "f650e8f9-121d-4682-92b2-f9ea3a51554a",
   "metadata": {},
   "outputs": [
    {
     "data": {
      "text/plain": [
       "<L1Dist name=l1_dist, built=False>"
      ]
     },
     "execution_count": 82,
     "metadata": {},
     "output_type": "execute_result"
    }
   ],
   "source": [
    "l1    #(anchor_embedding,validation_embedding)"
   ]
  },
  {
   "cell_type": "code",
   "execution_count": 84,
   "id": "76b87eeb-a2c1-45b5-b01f-c40896dffee9",
   "metadata": {},
   "outputs": [],
   "source": [
    "input_image=Input(name='input_img',shape=(100,100,3))\n",
    "validation_image=Input(name='validation_img',shape=(100,100,3))"
   ]
  },
  {
   "cell_type": "code",
   "execution_count": 86,
   "id": "bde24e54-6e86-4127-9f8f-2525b47cc1de",
   "metadata": {},
   "outputs": [],
   "source": [
    "embedding=make_embedding()\n",
    "inp_embedding=embedding(input_image)\n",
    "val_embedding=embedding(validation_image)"
   ]
  },
  {
   "cell_type": "code",
   "execution_count": 88,
   "id": "b26afdcc-8041-4056-a20a-fc7bcb5f9445",
   "metadata": {},
   "outputs": [
    {
     "data": {
      "text/plain": [
       "<KerasTensor shape=(None, 4096), dtype=float32, sparse=False, name=keras_tensor_27>"
      ]
     },
     "execution_count": 88,
     "metadata": {},
     "output_type": "execute_result"
    }
   ],
   "source": [
    "inp_embedding"
   ]
  },
  {
   "cell_type": "code",
   "execution_count": 90,
   "id": "331f1129-898b-4c1a-b101-0845a8691c4b",
   "metadata": {},
   "outputs": [
    {
     "data": {
      "text/plain": [
       "<KerasTensor shape=(None, 4096), dtype=float32, sparse=False, name=keras_tensor_28>"
      ]
     },
     "execution_count": 90,
     "metadata": {},
     "output_type": "execute_result"
    }
   ],
   "source": [
    "val_embedding"
   ]
  },
  {
   "cell_type": "code",
   "execution_count": 92,
   "id": "fef1f8d9-e2ac-45e0-8025-b70adf324566",
   "metadata": {},
   "outputs": [],
   "source": [
    "siamese_layer=L1Dist()"
   ]
  },
  {
   "cell_type": "code",
   "execution_count": 94,
   "id": "658a5438-2400-4c65-a67c-faafdc80d18a",
   "metadata": {},
   "outputs": [
    {
     "data": {
      "text/plain": [
       "<KerasTensor shape=(None, 4096), dtype=float32, sparse=False, name=keras_tensor_29>"
      ]
     },
     "execution_count": 94,
     "metadata": {},
     "output_type": "execute_result"
    }
   ],
   "source": [
    "siamese_layer(inp_embedding,val_embedding)"
   ]
  },
  {
   "cell_type": "code",
   "execution_count": 124,
   "id": "f90f1612-9422-456d-b155-d834f03b0b03",
   "metadata": {},
   "outputs": [],
   "source": [
    "def make_siamese_model():\n",
    "    # Anchor image input in the network\n",
    "    input_image=Input(name='input_img',shape=(100,100,3))\n",
    "    \n",
    "    #validation image in the network\n",
    "    validation_image=Input(name='validation_img',shape=(100,100,3))\n",
    "    \n",
    "    #combine siamese distance components\n",
    "    siamese_layer=L1Dist()\n",
    "    siamese_layer._name='distance'\n",
    "    distances=siamese_layer(embedding(input_image),embedding(validation_image))\n",
    "    \n",
    "    #classification layer\n",
    "    classifier=Dense(1,activation='sigmoid')(distances)\n",
    "    return Model(inputs=[input_image,validation_image],outputs=classifier,name='SiameseNetwork')"
   ]
  },
  {
   "cell_type": "code",
   "execution_count": 126,
   "id": "50982e4f-e5b4-4f5e-a271-56e412aecebd",
   "metadata": {},
   "outputs": [],
   "source": [
    "siamese_model=make_siamese_model()"
   ]
  },
  {
   "cell_type": "code",
   "execution_count": 461,
   "id": "8fb4f6f4-2123-415c-8347-5087967c7366",
   "metadata": {},
   "outputs": [
    {
     "data": {
      "text/html": [
       "<pre style=\"white-space:pre;overflow-x:auto;line-height:normal;font-family:Menlo,'DejaVu Sans Mono',consolas,'Courier New',monospace\"><span style=\"font-weight: bold\">Model: \"SiameseNetwork\"</span>\n",
       "</pre>\n"
      ],
      "text/plain": [
       "\u001b[1mModel: \"SiameseNetwork\"\u001b[0m\n"
      ]
     },
     "metadata": {},
     "output_type": "display_data"
    },
    {
     "data": {
      "text/html": [
       "<pre style=\"white-space:pre;overflow-x:auto;line-height:normal;font-family:Menlo,'DejaVu Sans Mono',consolas,'Courier New',monospace\">┏━━━━━━━━━━━━━━━━━━━━━┳━━━━━━━━━━━━━━━━━━━┳━━━━━━━━━━━━┳━━━━━━━━━━━━━━━━━━━┓\n",
       "┃<span style=\"font-weight: bold\"> Layer (type)        </span>┃<span style=\"font-weight: bold\"> Output Shape      </span>┃<span style=\"font-weight: bold\">    Param # </span>┃<span style=\"font-weight: bold\"> Connected to      </span>┃\n",
       "┡━━━━━━━━━━━━━━━━━━━━━╇━━━━━━━━━━━━━━━━━━━╇━━━━━━━━━━━━╇━━━━━━━━━━━━━━━━━━━┩\n",
       "│ input_img           │ (<span style=\"color: #00d7ff; text-decoration-color: #00d7ff\">None</span>, <span style=\"color: #00af00; text-decoration-color: #00af00\">100</span>, <span style=\"color: #00af00; text-decoration-color: #00af00\">100</span>,  │          <span style=\"color: #00af00; text-decoration-color: #00af00\">0</span> │ -                 │\n",
       "│ (<span style=\"color: #0087ff; text-decoration-color: #0087ff\">InputLayer</span>)        │ <span style=\"color: #00af00; text-decoration-color: #00af00\">3</span>)                │            │                   │\n",
       "├─────────────────────┼───────────────────┼────────────┼───────────────────┤\n",
       "│ validation_img      │ (<span style=\"color: #00d7ff; text-decoration-color: #00d7ff\">None</span>, <span style=\"color: #00af00; text-decoration-color: #00af00\">100</span>, <span style=\"color: #00af00; text-decoration-color: #00af00\">100</span>,  │          <span style=\"color: #00af00; text-decoration-color: #00af00\">0</span> │ -                 │\n",
       "│ (<span style=\"color: #0087ff; text-decoration-color: #0087ff\">InputLayer</span>)        │ <span style=\"color: #00af00; text-decoration-color: #00af00\">3</span>)                │            │                   │\n",
       "├─────────────────────┼───────────────────┼────────────┼───────────────────┤\n",
       "│ embedding           │ (<span style=\"color: #00d7ff; text-decoration-color: #00d7ff\">None</span>, <span style=\"color: #00af00; text-decoration-color: #00af00\">4096</span>)      │ <span style=\"color: #00af00; text-decoration-color: #00af00\">38,960,448</span> │ input_img[<span style=\"color: #00af00; text-decoration-color: #00af00\">0</span>][<span style=\"color: #00af00; text-decoration-color: #00af00\">0</span>],  │\n",
       "│ (<span style=\"color: #0087ff; text-decoration-color: #0087ff\">Functional</span>)        │                   │            │ validation_img[<span style=\"color: #00af00; text-decoration-color: #00af00\">0</span>… │\n",
       "├─────────────────────┼───────────────────┼────────────┼───────────────────┤\n",
       "│ l1_dist_3 (<span style=\"color: #0087ff; text-decoration-color: #0087ff\">L1Dist</span>)  │ (<span style=\"color: #00d7ff; text-decoration-color: #00d7ff\">None</span>, <span style=\"color: #00af00; text-decoration-color: #00af00\">4096</span>)      │          <span style=\"color: #00af00; text-decoration-color: #00af00\">0</span> │ embedding[<span style=\"color: #00af00; text-decoration-color: #00af00\">2</span>][<span style=\"color: #00af00; text-decoration-color: #00af00\">0</span>],  │\n",
       "│                     │                   │            │ embedding[<span style=\"color: #00af00; text-decoration-color: #00af00\">3</span>][<span style=\"color: #00af00; text-decoration-color: #00af00\">0</span>]   │\n",
       "├─────────────────────┼───────────────────┼────────────┼───────────────────┤\n",
       "│ dense_5 (<span style=\"color: #0087ff; text-decoration-color: #0087ff\">Dense</span>)     │ (<span style=\"color: #00d7ff; text-decoration-color: #00d7ff\">None</span>, <span style=\"color: #00af00; text-decoration-color: #00af00\">1</span>)         │      <span style=\"color: #00af00; text-decoration-color: #00af00\">4,097</span> │ l1_dist_3[<span style=\"color: #00af00; text-decoration-color: #00af00\">0</span>][<span style=\"color: #00af00; text-decoration-color: #00af00\">0</span>]   │\n",
       "└─────────────────────┴───────────────────┴────────────┴───────────────────┘\n",
       "</pre>\n"
      ],
      "text/plain": [
       "┏━━━━━━━━━━━━━━━━━━━━━┳━━━━━━━━━━━━━━━━━━━┳━━━━━━━━━━━━┳━━━━━━━━━━━━━━━━━━━┓\n",
       "┃\u001b[1m \u001b[0m\u001b[1mLayer (type)       \u001b[0m\u001b[1m \u001b[0m┃\u001b[1m \u001b[0m\u001b[1mOutput Shape     \u001b[0m\u001b[1m \u001b[0m┃\u001b[1m \u001b[0m\u001b[1m   Param #\u001b[0m\u001b[1m \u001b[0m┃\u001b[1m \u001b[0m\u001b[1mConnected to     \u001b[0m\u001b[1m \u001b[0m┃\n",
       "┡━━━━━━━━━━━━━━━━━━━━━╇━━━━━━━━━━━━━━━━━━━╇━━━━━━━━━━━━╇━━━━━━━━━━━━━━━━━━━┩\n",
       "│ input_img           │ (\u001b[38;5;45mNone\u001b[0m, \u001b[38;5;34m100\u001b[0m, \u001b[38;5;34m100\u001b[0m,  │          \u001b[38;5;34m0\u001b[0m │ -                 │\n",
       "│ (\u001b[38;5;33mInputLayer\u001b[0m)        │ \u001b[38;5;34m3\u001b[0m)                │            │                   │\n",
       "├─────────────────────┼───────────────────┼────────────┼───────────────────┤\n",
       "│ validation_img      │ (\u001b[38;5;45mNone\u001b[0m, \u001b[38;5;34m100\u001b[0m, \u001b[38;5;34m100\u001b[0m,  │          \u001b[38;5;34m0\u001b[0m │ -                 │\n",
       "│ (\u001b[38;5;33mInputLayer\u001b[0m)        │ \u001b[38;5;34m3\u001b[0m)                │            │                   │\n",
       "├─────────────────────┼───────────────────┼────────────┼───────────────────┤\n",
       "│ embedding           │ (\u001b[38;5;45mNone\u001b[0m, \u001b[38;5;34m4096\u001b[0m)      │ \u001b[38;5;34m38,960,448\u001b[0m │ input_img[\u001b[38;5;34m0\u001b[0m][\u001b[38;5;34m0\u001b[0m],  │\n",
       "│ (\u001b[38;5;33mFunctional\u001b[0m)        │                   │            │ validation_img[\u001b[38;5;34m0\u001b[0m… │\n",
       "├─────────────────────┼───────────────────┼────────────┼───────────────────┤\n",
       "│ l1_dist_3 (\u001b[38;5;33mL1Dist\u001b[0m)  │ (\u001b[38;5;45mNone\u001b[0m, \u001b[38;5;34m4096\u001b[0m)      │          \u001b[38;5;34m0\u001b[0m │ embedding[\u001b[38;5;34m2\u001b[0m][\u001b[38;5;34m0\u001b[0m],  │\n",
       "│                     │                   │            │ embedding[\u001b[38;5;34m3\u001b[0m][\u001b[38;5;34m0\u001b[0m]   │\n",
       "├─────────────────────┼───────────────────┼────────────┼───────────────────┤\n",
       "│ dense_5 (\u001b[38;5;33mDense\u001b[0m)     │ (\u001b[38;5;45mNone\u001b[0m, \u001b[38;5;34m1\u001b[0m)         │      \u001b[38;5;34m4,097\u001b[0m │ l1_dist_3[\u001b[38;5;34m0\u001b[0m][\u001b[38;5;34m0\u001b[0m]   │\n",
       "└─────────────────────┴───────────────────┴────────────┴───────────────────┘\n"
      ]
     },
     "metadata": {},
     "output_type": "display_data"
    },
    {
     "data": {
      "text/html": [
       "<pre style=\"white-space:pre;overflow-x:auto;line-height:normal;font-family:Menlo,'DejaVu Sans Mono',consolas,'Courier New',monospace\"><span style=\"font-weight: bold\"> Total params: </span><span style=\"color: #00af00; text-decoration-color: #00af00\">38,964,545</span> (148.64 MB)\n",
       "</pre>\n"
      ],
      "text/plain": [
       "\u001b[1m Total params: \u001b[0m\u001b[38;5;34m38,964,545\u001b[0m (148.64 MB)\n"
      ]
     },
     "metadata": {},
     "output_type": "display_data"
    },
    {
     "data": {
      "text/html": [
       "<pre style=\"white-space:pre;overflow-x:auto;line-height:normal;font-family:Menlo,'DejaVu Sans Mono',consolas,'Courier New',monospace\"><span style=\"font-weight: bold\"> Trainable params: </span><span style=\"color: #00af00; text-decoration-color: #00af00\">38,964,545</span> (148.64 MB)\n",
       "</pre>\n"
      ],
      "text/plain": [
       "\u001b[1m Trainable params: \u001b[0m\u001b[38;5;34m38,964,545\u001b[0m (148.64 MB)\n"
      ]
     },
     "metadata": {},
     "output_type": "display_data"
    },
    {
     "data": {
      "text/html": [
       "<pre style=\"white-space:pre;overflow-x:auto;line-height:normal;font-family:Menlo,'DejaVu Sans Mono',consolas,'Courier New',monospace\"><span style=\"font-weight: bold\"> Non-trainable params: </span><span style=\"color: #00af00; text-decoration-color: #00af00\">0</span> (0.00 B)\n",
       "</pre>\n"
      ],
      "text/plain": [
       "\u001b[1m Non-trainable params: \u001b[0m\u001b[38;5;34m0\u001b[0m (0.00 B)\n"
      ]
     },
     "metadata": {},
     "output_type": "display_data"
    }
   ],
   "source": [
    "siamese_model.summary()"
   ]
  },
  {
   "cell_type": "code",
   "execution_count": 130,
   "id": "a9d12d6f-9a24-43ba-964f-629e46866173",
   "metadata": {},
   "outputs": [],
   "source": [
    "binary_cross_loss=tf.losses.BinaryCrossentropy()"
   ]
  },
  {
   "cell_type": "code",
   "execution_count": 132,
   "id": "bdbe22ee-1cde-4a04-945c-a1d4c3bb7a7e",
   "metadata": {},
   "outputs": [],
   "source": [
    "opt=tf.keras.optimizers.Adam(1e-4) #0.0001"
   ]
  },
  {
   "cell_type": "code",
   "execution_count": 134,
   "id": "19db4ac0-3f6a-47ad-afd5-d2172cfc41dd",
   "metadata": {},
   "outputs": [],
   "source": [
    "#Establishing Checkpoints\n",
    "checkpoint_dir='./training_checkpoints'\n",
    "checkpoint_prefix=os.path.join(checkpoint_dir,'ckpt')\n",
    "checkpoint=tf.train.Checkpoint(opt=opt,siamese_model=siamese_model)"
   ]
  },
  {
   "cell_type": "code",
   "execution_count": 136,
   "id": "9fa9dfd5-878d-40f0-93f7-68850d43848d",
   "metadata": {},
   "outputs": [],
   "source": [
    "#Build Train Step Function\n",
    "test_batch=train_data.as_numpy_iterator()"
   ]
  },
  {
   "cell_type": "code",
   "execution_count": 138,
   "id": "718608a4-5a4d-4609-999c-099b2a3574df",
   "metadata": {},
   "outputs": [],
   "source": [
    "batch_1=test_batch.next()"
   ]
  },
  {
   "cell_type": "code",
   "execution_count": 140,
   "id": "01d48705-688d-4e35-a732-b989a6e23dbe",
   "metadata": {},
   "outputs": [
    {
     "data": {
      "text/plain": [
       "16"
      ]
     },
     "execution_count": 140,
     "metadata": {},
     "output_type": "execute_result"
    }
   ],
   "source": [
    "len(batch_1[1])"
   ]
  },
  {
   "cell_type": "code",
   "execution_count": 142,
   "id": "563851d2-48f9-4cd8-9175-b703754df90e",
   "metadata": {},
   "outputs": [],
   "source": [
    "X=batch_1[:2]"
   ]
  },
  {
   "cell_type": "code",
   "execution_count": 144,
   "id": "d2f9f5ae-82b8-4ae2-b2b6-7322f7355764",
   "metadata": {},
   "outputs": [
    {
     "data": {
      "text/plain": [
       "(2, 16, 100, 100, 3)"
      ]
     },
     "execution_count": 144,
     "metadata": {},
     "output_type": "execute_result"
    }
   ],
   "source": [
    "np.array(X).shape"
   ]
  },
  {
   "cell_type": "code",
   "execution_count": 146,
   "id": "8c071271-a09d-4c0c-8420-3d16575d1940",
   "metadata": {},
   "outputs": [],
   "source": [
    "@tf.function\n",
    "def train_step(batch):\n",
    "\n",
    "    #Record all of our operations\n",
    "    with tf.GradientTape() as tape:\n",
    "        #Get anchor and positive/negative image\n",
    "        x=batch[:2]\n",
    "        #Get Label\n",
    "        y=batch[2]\n",
    "\n",
    "        # Ensure resizing\n",
    "        x_resized = [tf.image.resize(img, (100, 100)) for img in x]\n",
    "        x_resized = tf.stack(x_resized) \n",
    "        # Forward pass\n",
    "        yhat=siamese_model(x,training=True)\n",
    "        #yhat = siamese_model( x_resized, training=True)\n",
    "        # Calculate loss\n",
    "        loss=binary_cross_loss(y,yhat)\n",
    "   # print(loss)\n",
    "\n",
    "    # Calculate gradients\n",
    "    grad=tape.gradient(loss,siamese_model.trainable_variables)\n",
    "\n",
    "    # Calculate updated weights and apply to siamese model\n",
    "    opt.apply_gradients(zip(grad, siamese_model.trainable_variables))\n",
    "    return loss"
   ]
  },
  {
   "cell_type": "code",
   "execution_count": 148,
   "id": "68c3222d-1513-4373-935e-cc94555610e5",
   "metadata": {},
   "outputs": [],
   "source": [
    "# Build Training Loop\n",
    "def train(data,EPOCHS):\n",
    "    # Loop through epochs\n",
    "    for epoch in range(1,EPOCHS+1):\n",
    "        print('\\n Epoch {}/{}'.format(epoch,EPOCHS))\n",
    "        progbar=tf.keras.utils.Progbar(len(data))\n",
    "\n",
    "        # Loop through each batch\n",
    "        for idx,batch in enumerate(data):\n",
    "            # Run train step here\n",
    "            train_step(batch)\n",
    "            progbar.update(idx+1)\n",
    "        # Save checkpoints\n",
    "        if epoch%10==0:\n",
    "            checkpoint.save(file_prefix=checkpoint_prefix)"
   ]
  },
  {
   "cell_type": "code",
   "execution_count": 150,
   "id": "c8f10c7d-91c0-459a-9d73-7799e263b08c",
   "metadata": {},
   "outputs": [],
   "source": [
    "EPOCHS=50"
   ]
  },
  {
   "cell_type": "code",
   "execution_count": 152,
   "id": "db5b2513-0684-4f23-809e-14a990f27cf2",
   "metadata": {},
   "outputs": [
    {
     "name": "stdout",
     "output_type": "stream",
     "text": [
      "\n",
      " Epoch 1/50\n",
      "\u001b[1m35/35\u001b[0m \u001b[32m━━━━━━━━━━━━━━━━━━━━\u001b[0m\u001b[37m\u001b[0m \u001b[1m113s\u001b[0m 3s/step\n",
      "\n",
      " Epoch 2/50\n",
      "\u001b[1m35/35\u001b[0m \u001b[32m━━━━━━━━━━━━━━━━━━━━\u001b[0m\u001b[37m\u001b[0m \u001b[1m129s\u001b[0m 4s/step\n",
      "\n",
      " Epoch 3/50\n",
      "\u001b[1m35/35\u001b[0m \u001b[32m━━━━━━━━━━━━━━━━━━━━\u001b[0m\u001b[37m\u001b[0m \u001b[1m144s\u001b[0m 4s/step\n",
      "\n",
      " Epoch 4/50\n",
      "\u001b[1m35/35\u001b[0m \u001b[32m━━━━━━━━━━━━━━━━━━━━\u001b[0m\u001b[37m\u001b[0m \u001b[1m135s\u001b[0m 4s/step\n",
      "\n",
      " Epoch 5/50\n"
     ]
    },
    {
     "name": "stderr",
     "output_type": "stream",
     "text": [
      "2025-02-13 21:10:10.281020: I tensorflow/core/framework/local_rendezvous.cc:405] Local rendezvous is aborting with status: OUT_OF_RANGE: End of sequence\n"
     ]
    },
    {
     "name": "stdout",
     "output_type": "stream",
     "text": [
      "\u001b[1m35/35\u001b[0m \u001b[32m━━━━━━━━━━━━━━━━━━━━\u001b[0m\u001b[37m\u001b[0m \u001b[1m170s\u001b[0m 5s/step\n",
      "\n",
      " Epoch 6/50\n",
      "\u001b[1m35/35\u001b[0m \u001b[32m━━━━━━━━━━━━━━━━━━━━\u001b[0m\u001b[37m\u001b[0m \u001b[1m136s\u001b[0m 4s/step\n",
      "\n",
      " Epoch 7/50\n",
      "\u001b[1m35/35\u001b[0m \u001b[32m━━━━━━━━━━━━━━━━━━━━\u001b[0m\u001b[37m\u001b[0m \u001b[1m139s\u001b[0m 4s/step\n",
      "\n",
      " Epoch 8/50\n",
      "\u001b[1m35/35\u001b[0m \u001b[32m━━━━━━━━━━━━━━━━━━━━\u001b[0m\u001b[37m\u001b[0m \u001b[1m142s\u001b[0m 4s/step\n",
      "\n",
      " Epoch 9/50\n",
      "\u001b[1m35/35\u001b[0m \u001b[32m━━━━━━━━━━━━━━━━━━━━\u001b[0m\u001b[37m\u001b[0m \u001b[1m142s\u001b[0m 4s/step\n",
      "\n",
      " Epoch 10/50\n",
      "\u001b[1m35/35\u001b[0m \u001b[32m━━━━━━━━━━━━━━━━━━━━\u001b[0m\u001b[37m\u001b[0m \u001b[1m144s\u001b[0m 4s/step\n",
      "\n",
      " Epoch 11/50\n",
      "\u001b[1m35/35\u001b[0m \u001b[32m━━━━━━━━━━━━━━━━━━━━\u001b[0m\u001b[37m\u001b[0m \u001b[1m143s\u001b[0m 4s/step\n",
      "\n",
      " Epoch 12/50\n",
      "\u001b[1m35/35\u001b[0m \u001b[32m━━━━━━━━━━━━━━━━━━━━\u001b[0m\u001b[37m\u001b[0m \u001b[1m139s\u001b[0m 4s/step\n",
      "\n",
      " Epoch 13/50\n"
     ]
    },
    {
     "name": "stderr",
     "output_type": "stream",
     "text": [
      "2025-02-13 21:29:25.294892: I tensorflow/core/framework/local_rendezvous.cc:405] Local rendezvous is aborting with status: OUT_OF_RANGE: End of sequence\n"
     ]
    },
    {
     "name": "stdout",
     "output_type": "stream",
     "text": [
      "\u001b[1m35/35\u001b[0m \u001b[32m━━━━━━━━━━━━━━━━━━━━\u001b[0m\u001b[37m\u001b[0m \u001b[1m140s\u001b[0m 4s/step\n",
      "\n",
      " Epoch 14/50\n",
      "\u001b[1m35/35\u001b[0m \u001b[32m━━━━━━━━━━━━━━━━━━━━\u001b[0m\u001b[37m\u001b[0m \u001b[1m142s\u001b[0m 4s/step\n",
      "\n",
      " Epoch 15/50\n",
      "\u001b[1m35/35\u001b[0m \u001b[32m━━━━━━━━━━━━━━━━━━━━\u001b[0m\u001b[37m\u001b[0m \u001b[1m141s\u001b[0m 4s/step\n",
      "\n",
      " Epoch 16/50\n",
      "\u001b[1m35/35\u001b[0m \u001b[32m━━━━━━━━━━━━━━━━━━━━\u001b[0m\u001b[37m\u001b[0m \u001b[1m136s\u001b[0m 4s/step\n",
      "\n",
      " Epoch 17/50\n",
      "\u001b[1m35/35\u001b[0m \u001b[32m━━━━━━━━━━━━━━━━━━━━\u001b[0m\u001b[37m\u001b[0m \u001b[1m135s\u001b[0m 4s/step\n",
      "\n",
      " Epoch 18/50\n",
      "\u001b[1m35/35\u001b[0m \u001b[32m━━━━━━━━━━━━━━━━━━━━\u001b[0m\u001b[37m\u001b[0m \u001b[1m136s\u001b[0m 4s/step\n",
      "\n",
      " Epoch 19/50\n",
      "\u001b[1m35/35\u001b[0m \u001b[32m━━━━━━━━━━━━━━━━━━━━\u001b[0m\u001b[37m\u001b[0m \u001b[1m137s\u001b[0m 4s/step\n",
      "\n",
      " Epoch 20/50\n",
      "\u001b[1m35/35\u001b[0m \u001b[32m━━━━━━━━━━━━━━━━━━━━\u001b[0m\u001b[37m\u001b[0m \u001b[1m135s\u001b[0m 4s/step\n",
      "\n",
      " Epoch 21/50\n",
      "\u001b[1m35/35\u001b[0m \u001b[32m━━━━━━━━━━━━━━━━━━━━\u001b[0m\u001b[37m\u001b[0m \u001b[1m223s\u001b[0m 6s/step\n",
      "\n",
      " Epoch 22/50\n",
      "\u001b[1m35/35\u001b[0m \u001b[32m━━━━━━━━━━━━━━━━━━━━\u001b[0m\u001b[37m\u001b[0m \u001b[1m141s\u001b[0m 4s/step\n",
      "\n",
      " Epoch 23/50\n",
      "\u001b[1m35/35\u001b[0m \u001b[32m━━━━━━━━━━━━━━━━━━━━\u001b[0m\u001b[37m\u001b[0m \u001b[1m138s\u001b[0m 4s/step\n",
      "\n",
      " Epoch 24/50\n",
      "\u001b[1m35/35\u001b[0m \u001b[32m━━━━━━━━━━━━━━━━━━━━\u001b[0m\u001b[37m\u001b[0m \u001b[1m133s\u001b[0m 4s/step\n",
      "\n",
      " Epoch 25/50\n",
      "\u001b[1m35/35\u001b[0m \u001b[32m━━━━━━━━━━━━━━━━━━━━\u001b[0m\u001b[37m\u001b[0m \u001b[1m133s\u001b[0m 4s/step\n",
      "\n",
      " Epoch 26/50\n",
      "\u001b[1m35/35\u001b[0m \u001b[32m━━━━━━━━━━━━━━━━━━━━\u001b[0m\u001b[37m\u001b[0m \u001b[1m133s\u001b[0m 4s/step\n",
      "\n",
      " Epoch 27/50\n",
      "\u001b[1m35/35\u001b[0m \u001b[32m━━━━━━━━━━━━━━━━━━━━\u001b[0m\u001b[37m\u001b[0m \u001b[1m138s\u001b[0m 4s/step\n",
      "\n",
      " Epoch 28/50\n",
      "\u001b[1m35/35\u001b[0m \u001b[32m━━━━━━━━━━━━━━━━━━━━\u001b[0m\u001b[37m\u001b[0m \u001b[1m136s\u001b[0m 4s/step\n",
      "\n",
      " Epoch 29/50\n"
     ]
    },
    {
     "name": "stderr",
     "output_type": "stream",
     "text": [
      "2025-02-13 22:07:23.346638: I tensorflow/core/framework/local_rendezvous.cc:405] Local rendezvous is aborting with status: OUT_OF_RANGE: End of sequence\n"
     ]
    },
    {
     "name": "stdout",
     "output_type": "stream",
     "text": [
      "\u001b[1m35/35\u001b[0m \u001b[32m━━━━━━━━━━━━━━━━━━━━\u001b[0m\u001b[37m\u001b[0m \u001b[1m135s\u001b[0m 4s/step\n",
      "\n",
      " Epoch 30/50\n",
      "\u001b[1m35/35\u001b[0m \u001b[32m━━━━━━━━━━━━━━━━━━━━\u001b[0m\u001b[37m\u001b[0m \u001b[1m136s\u001b[0m 4s/step\n",
      "\n",
      " Epoch 31/50\n",
      "\u001b[1m35/35\u001b[0m \u001b[32m━━━━━━━━━━━━━━━━━━━━\u001b[0m\u001b[37m\u001b[0m \u001b[1m139s\u001b[0m 4s/step\n",
      "\n",
      " Epoch 32/50\n",
      "\u001b[1m35/35\u001b[0m \u001b[32m━━━━━━━━━━━━━━━━━━━━\u001b[0m\u001b[37m\u001b[0m \u001b[1m137s\u001b[0m 4s/step\n",
      "\n",
      " Epoch 33/50\n",
      "\u001b[1m35/35\u001b[0m \u001b[32m━━━━━━━━━━━━━━━━━━━━\u001b[0m\u001b[37m\u001b[0m \u001b[1m136s\u001b[0m 4s/step\n",
      "\n",
      " Epoch 34/50\n",
      "\u001b[1m35/35\u001b[0m \u001b[32m━━━━━━━━━━━━━━━━━━━━\u001b[0m\u001b[37m\u001b[0m \u001b[1m136s\u001b[0m 4s/step\n",
      "\n",
      " Epoch 35/50\n",
      "\u001b[1m35/35\u001b[0m \u001b[32m━━━━━━━━━━━━━━━━━━━━\u001b[0m\u001b[37m\u001b[0m \u001b[1m139s\u001b[0m 4s/step\n",
      "\n",
      " Epoch 36/50\n",
      "\u001b[1m35/35\u001b[0m \u001b[32m━━━━━━━━━━━━━━━━━━━━\u001b[0m\u001b[37m\u001b[0m \u001b[1m139s\u001b[0m 4s/step\n",
      "\n",
      " Epoch 37/50\n",
      "\u001b[1m35/35\u001b[0m \u001b[32m━━━━━━━━━━━━━━━━━━━━\u001b[0m\u001b[37m\u001b[0m \u001b[1m211s\u001b[0m 6s/step\n",
      "\n",
      " Epoch 38/50\n",
      "\u001b[1m35/35\u001b[0m \u001b[32m━━━━━━━━━━━━━━━━━━━━\u001b[0m\u001b[37m\u001b[0m \u001b[1m130s\u001b[0m 4s/step\n",
      "\n",
      " Epoch 39/50\n",
      "\u001b[1m35/35\u001b[0m \u001b[32m━━━━━━━━━━━━━━━━━━━━\u001b[0m\u001b[37m\u001b[0m \u001b[1m138s\u001b[0m 4s/step\n",
      "\n",
      " Epoch 40/50\n",
      "\u001b[1m35/35\u001b[0m \u001b[32m━━━━━━━━━━━━━━━━━━━━\u001b[0m\u001b[37m\u001b[0m \u001b[1m142s\u001b[0m 4s/step\n",
      "\n",
      " Epoch 41/50\n",
      "\u001b[1m35/35\u001b[0m \u001b[32m━━━━━━━━━━━━━━━━━━━━\u001b[0m\u001b[37m\u001b[0m \u001b[1m151s\u001b[0m 4s/step\n",
      "\n",
      " Epoch 42/50\n",
      "\u001b[1m35/35\u001b[0m \u001b[32m━━━━━━━━━━━━━━━━━━━━\u001b[0m\u001b[37m\u001b[0m \u001b[1m140s\u001b[0m 4s/step\n",
      "\n",
      " Epoch 43/50\n",
      "\u001b[1m35/35\u001b[0m \u001b[32m━━━━━━━━━━━━━━━━━━━━\u001b[0m\u001b[37m\u001b[0m \u001b[1m140s\u001b[0m 4s/step\n",
      "\n",
      " Epoch 44/50\n",
      "\u001b[1m35/35\u001b[0m \u001b[32m━━━━━━━━━━━━━━━━━━━━\u001b[0m\u001b[37m\u001b[0m \u001b[1m138s\u001b[0m 4s/step\n",
      "\n",
      " Epoch 45/50\n",
      "\u001b[1m35/35\u001b[0m \u001b[32m━━━━━━━━━━━━━━━━━━━━\u001b[0m\u001b[37m\u001b[0m \u001b[1m140s\u001b[0m 4s/step\n",
      "\n",
      " Epoch 46/50\n",
      "\u001b[1m35/35\u001b[0m \u001b[32m━━━━━━━━━━━━━━━━━━━━\u001b[0m\u001b[37m\u001b[0m \u001b[1m141s\u001b[0m 4s/step\n",
      "\n",
      " Epoch 47/50\n",
      "\u001b[1m35/35\u001b[0m \u001b[32m━━━━━━━━━━━━━━━━━━━━\u001b[0m\u001b[37m\u001b[0m \u001b[1m141s\u001b[0m 4s/step\n",
      "\n",
      " Epoch 48/50\n",
      "\u001b[1m35/35\u001b[0m \u001b[32m━━━━━━━━━━━━━━━━━━━━\u001b[0m\u001b[37m\u001b[0m \u001b[1m170s\u001b[0m 5s/step\n",
      "\n",
      " Epoch 49/50\n",
      "\u001b[1m35/35\u001b[0m \u001b[32m━━━━━━━━━━━━━━━━━━━━\u001b[0m\u001b[37m\u001b[0m \u001b[1m135s\u001b[0m 4s/step\n",
      "\n",
      " Epoch 50/50\n",
      "\u001b[1m35/35\u001b[0m \u001b[32m━━━━━━━━━━━━━━━━━━━━\u001b[0m\u001b[37m\u001b[0m \u001b[1m211s\u001b[0m 4s/step\n"
     ]
    }
   ],
   "source": [
    "train(train_data,EPOCHS)"
   ]
  },
  {
   "cell_type": "code",
   "execution_count": 156,
   "id": "fe8841a9-563f-4499-a736-14ac2dcf69c5",
   "metadata": {},
   "outputs": [],
   "source": [
    "#Import metric calculations\n",
    "from tensorflow.keras.metrics import Precision, Recall"
   ]
  },
  {
   "cell_type": "code",
   "execution_count": 260,
   "id": "54afb6be-908c-4fcd-8b57-1ff11d9509f0",
   "metadata": {},
   "outputs": [],
   "source": [
    "#Get a batch of test data\n",
    "test_input,test_val,y_true=test_data.as_numpy_iterator().next()"
   ]
  },
  {
   "cell_type": "code",
   "execution_count": 262,
   "id": "56faf0d0-57ae-4084-94c7-b5f6a43accb4",
   "metadata": {},
   "outputs": [
    {
     "name": "stdout",
     "output_type": "stream",
     "text": [
      "\u001b[1m1/1\u001b[0m \u001b[32m━━━━━━━━━━━━━━━━━━━━\u001b[0m\u001b[37m\u001b[0m \u001b[1m1s\u001b[0m 828ms/step\n"
     ]
    },
    {
     "data": {
      "text/plain": [
       "array([[1.       ],\n",
       "       [1.       ],\n",
       "       [0.999987 ],\n",
       "       [1.       ],\n",
       "       [1.       ],\n",
       "       [1.       ],\n",
       "       [1.       ],\n",
       "       [1.       ],\n",
       "       [1.       ],\n",
       "       [1.       ],\n",
       "       [1.       ],\n",
       "       [1.       ],\n",
       "       [0.999922 ],\n",
       "       [0.9999847],\n",
       "       [1.       ],\n",
       "       [1.       ]], dtype=float32)"
      ]
     },
     "execution_count": 262,
     "metadata": {},
     "output_type": "execute_result"
    }
   ],
   "source": [
    "# Make Predictions\n",
    "y_hat=siamese_model.predict([test_input, test_val])\n",
    "y_hat"
   ]
  },
  {
   "cell_type": "code",
   "execution_count": 264,
   "id": "53f54964-c57c-43b2-a2d5-0d2da1167db6",
   "metadata": {},
   "outputs": [
    {
     "data": {
      "text/plain": [
       "[1, 1, 1, 1, 1, 1, 1, 1, 1, 1, 1, 1, 1, 1, 1, 1]"
      ]
     },
     "execution_count": 264,
     "metadata": {},
     "output_type": "execute_result"
    }
   ],
   "source": [
    "#Post processing the results\n",
    "[1 if prediction>0.5 else 0 for prediction in y_hat]"
   ]
  },
  {
   "cell_type": "code",
   "execution_count": 266,
   "id": "e5fbe10d-3051-4156-b67e-e86e84367542",
   "metadata": {},
   "outputs": [
    {
     "data": {
      "text/plain": [
       "array([1., 1., 1., 1., 1., 1., 1., 1., 1., 1., 1., 1., 1., 1., 1., 1.],\n",
       "      dtype=float32)"
      ]
     },
     "execution_count": 266,
     "metadata": {},
     "output_type": "execute_result"
    }
   ],
   "source": [
    "y_true"
   ]
  },
  {
   "cell_type": "code",
   "execution_count": 268,
   "id": "b47233f8-2b8a-43d1-a5d5-b1cb2505b544",
   "metadata": {},
   "outputs": [
    {
     "data": {
      "text/plain": [
       "1.0"
      ]
     },
     "execution_count": 268,
     "metadata": {},
     "output_type": "execute_result"
    }
   ],
   "source": [
    "# Creating a metric object\n",
    "m=Recall()\n",
    "\n",
    "#Calculating the recall value\n",
    "m.update_state(y_true,y_hat)\n",
    "\n",
    "#Return Recall Result\n",
    "m.result().numpy()"
   ]
  },
  {
   "cell_type": "code",
   "execution_count": 270,
   "id": "f5ff9ff4-0a6a-4a37-a7e0-0f5ee7e37883",
   "metadata": {},
   "outputs": [
    {
     "data": {
      "text/plain": [
       "1.0"
      ]
     },
     "execution_count": 270,
     "metadata": {},
     "output_type": "execute_result"
    }
   ],
   "source": [
    "# Creating a metric object\n",
    "m=Precision()\n",
    "\n",
    "#Calculating the recall value\n",
    "m.update_state(y_true,y_hat)\n",
    "\n",
    "#Return Recall Result\n",
    "m.result().numpy()"
   ]
  },
  {
   "cell_type": "code",
   "execution_count": 272,
   "id": "81d9990d-a20e-4e31-a1f3-68b5db9a6299",
   "metadata": {},
   "outputs": [
    {
     "data": {
      "image/png": "[encoded data removed]",
      "text/plain": [
       "<Figure size 1000x800 with 2 Axes>"
      ]
     },
     "metadata": {},
     "output_type": "display_data"
    }
   ],
   "source": [
    "# Set Plot size\n",
    "plt.figure(figsize=(10,8))\n",
    "\n",
    "# Set first subplot\n",
    "plt.subplot(1,2,1)\n",
    "plt.imshow(test_input[4])\n",
    "\n",
    "# Set second subplot\n",
    "plt.subplot(1,2,2)\n",
    "plt.imshow(test_input[4])\n",
    "\n",
    "plt.show()"
   ]
  },
  {
   "cell_type": "markdown",
   "id": "2d62fd6b-6ff3-4e6b-ac45-139d5c99bec8",
   "metadata": {},
   "source": [
    "## Save Model"
   ]
  },
  {
   "cell_type": "code",
   "execution_count": 279,
   "id": "52abc7b0-8eff-49cb-9043-23308af88d38",
   "metadata": {},
   "outputs": [],
   "source": [
    "# Save weights\n",
    "siamese_model.save('siamesemodel.keras')"
   ]
  },
  {
   "cell_type": "code",
   "execution_count": 281,
   "id": "6d59eff5-dc75-4173-975e-d7629524eb16",
   "metadata": {},
   "outputs": [
    {
     "data": {
      "text/plain": [
       "__main__.L1Dist"
      ]
     },
     "execution_count": 281,
     "metadata": {},
     "output_type": "execute_result"
    }
   ],
   "source": [
    "L1Dist"
   ]
  },
  {
   "cell_type": "code",
   "execution_count": 285,
   "id": "3a27d87f-743d-4def-945a-92bbd358efc8",
   "metadata": {},
   "outputs": [],
   "source": [
    "# Reload model\n",
    "model=tf.keras.models.load_model('siamesemodel.keras',\n",
    "                                 custom_objects={'L1Dist':L1Dist, 'BinaryCrossentropy':tf.losses.BinaryCrossentropy})"
   ]
  },
  {
   "cell_type": "code",
   "execution_count": 289,
   "id": "998a87e5-32c2-47ff-8ebe-c6a7efec8e1b",
   "metadata": {},
   "outputs": [
    {
     "name": "stdout",
     "output_type": "stream",
     "text": [
      "\u001b[1m1/1\u001b[0m \u001b[32m━━━━━━━━━━━━━━━━━━━━\u001b[0m\u001b[37m\u001b[0m \u001b[1m1s\u001b[0m 974ms/step\n"
     ]
    },
    {
     "data": {
      "text/plain": [
       "array([[1.       ],\n",
       "       [1.       ],\n",
       "       [0.999987 ],\n",
       "       [1.       ],\n",
       "       [1.       ],\n",
       "       [1.       ],\n",
       "       [1.       ],\n",
       "       [1.       ],\n",
       "       [1.       ],\n",
       "       [1.       ],\n",
       "       [1.       ],\n",
       "       [1.       ],\n",
       "       [0.999922 ],\n",
       "       [0.9999847],\n",
       "       [1.       ],\n",
       "       [1.       ]], dtype=float32)"
      ]
     },
     "execution_count": 289,
     "metadata": {},
     "output_type": "execute_result"
    }
   ],
   "source": [
    "# Make predictions with reloaded model\n",
    "model.predict([test_input,test_val])"
   ]
  },
  {
   "cell_type": "code",
   "execution_count": 291,
   "id": "c55d9a99-e8ce-44d2-9a0b-a832dc79b3a0",
   "metadata": {},
   "outputs": [
    {
     "data": {
      "text/html": [
       "<pre style=\"white-space:pre;overflow-x:auto;line-height:normal;font-family:Menlo,'DejaVu Sans Mono',consolas,'Courier New',monospace\"><span style=\"font-weight: bold\">Model: \"SiameseNetwork\"</span>\n",
       "</pre>\n"
      ],
      "text/plain": [
       "\u001b[1mModel: \"SiameseNetwork\"\u001b[0m\n"
      ]
     },
     "metadata": {},
     "output_type": "display_data"
    },
    {
     "data": {
      "text/html": [
       "<pre style=\"white-space:pre;overflow-x:auto;line-height:normal;font-family:Menlo,'DejaVu Sans Mono',consolas,'Courier New',monospace\">┏━━━━━━━━━━━━━━━━━━━━━┳━━━━━━━━━━━━━━━━━━━┳━━━━━━━━━━━━┳━━━━━━━━━━━━━━━━━━━┓\n",
       "┃<span style=\"font-weight: bold\"> Layer (type)        </span>┃<span style=\"font-weight: bold\"> Output Shape      </span>┃<span style=\"font-weight: bold\">    Param # </span>┃<span style=\"font-weight: bold\"> Connected to      </span>┃\n",
       "┡━━━━━━━━━━━━━━━━━━━━━╇━━━━━━━━━━━━━━━━━━━╇━━━━━━━━━━━━╇━━━━━━━━━━━━━━━━━━━┩\n",
       "│ input_img           │ (<span style=\"color: #00d7ff; text-decoration-color: #00d7ff\">None</span>, <span style=\"color: #00af00; text-decoration-color: #00af00\">100</span>, <span style=\"color: #00af00; text-decoration-color: #00af00\">100</span>,  │          <span style=\"color: #00af00; text-decoration-color: #00af00\">0</span> │ -                 │\n",
       "│ (<span style=\"color: #0087ff; text-decoration-color: #0087ff\">InputLayer</span>)        │ <span style=\"color: #00af00; text-decoration-color: #00af00\">3</span>)                │            │                   │\n",
       "├─────────────────────┼───────────────────┼────────────┼───────────────────┤\n",
       "│ validation_img      │ (<span style=\"color: #00d7ff; text-decoration-color: #00d7ff\">None</span>, <span style=\"color: #00af00; text-decoration-color: #00af00\">100</span>, <span style=\"color: #00af00; text-decoration-color: #00af00\">100</span>,  │          <span style=\"color: #00af00; text-decoration-color: #00af00\">0</span> │ -                 │\n",
       "│ (<span style=\"color: #0087ff; text-decoration-color: #0087ff\">InputLayer</span>)        │ <span style=\"color: #00af00; text-decoration-color: #00af00\">3</span>)                │            │                   │\n",
       "├─────────────────────┼───────────────────┼────────────┼───────────────────┤\n",
       "│ embedding           │ (<span style=\"color: #00d7ff; text-decoration-color: #00d7ff\">None</span>, <span style=\"color: #00af00; text-decoration-color: #00af00\">4096</span>)      │ <span style=\"color: #00af00; text-decoration-color: #00af00\">38,960,448</span> │ input_img[<span style=\"color: #00af00; text-decoration-color: #00af00\">0</span>][<span style=\"color: #00af00; text-decoration-color: #00af00\">0</span>],  │\n",
       "│ (<span style=\"color: #0087ff; text-decoration-color: #0087ff\">Functional</span>)        │                   │            │ validation_img[<span style=\"color: #00af00; text-decoration-color: #00af00\">0</span>… │\n",
       "├─────────────────────┼───────────────────┼────────────┼───────────────────┤\n",
       "│ l1_dist_4 (<span style=\"color: #0087ff; text-decoration-color: #0087ff\">L1Dist</span>)  │ (<span style=\"color: #00d7ff; text-decoration-color: #00d7ff\">None</span>, <span style=\"color: #00af00; text-decoration-color: #00af00\">4096</span>)      │          <span style=\"color: #00af00; text-decoration-color: #00af00\">0</span> │ embedding[<span style=\"color: #00af00; text-decoration-color: #00af00\">0</span>][<span style=\"color: #00af00; text-decoration-color: #00af00\">0</span>],  │\n",
       "│                     │                   │            │ embedding[<span style=\"color: #00af00; text-decoration-color: #00af00\">1</span>][<span style=\"color: #00af00; text-decoration-color: #00af00\">0</span>]   │\n",
       "├─────────────────────┼───────────────────┼────────────┼───────────────────┤\n",
       "│ dense_5 (<span style=\"color: #0087ff; text-decoration-color: #0087ff\">Dense</span>)     │ (<span style=\"color: #00d7ff; text-decoration-color: #00d7ff\">None</span>, <span style=\"color: #00af00; text-decoration-color: #00af00\">1</span>)         │      <span style=\"color: #00af00; text-decoration-color: #00af00\">4,097</span> │ l1_dist_4[<span style=\"color: #00af00; text-decoration-color: #00af00\">0</span>][<span style=\"color: #00af00; text-decoration-color: #00af00\">0</span>]   │\n",
       "└─────────────────────┴───────────────────┴────────────┴───────────────────┘\n",
       "</pre>\n"
      ],
      "text/plain": [
       "┏━━━━━━━━━━━━━━━━━━━━━┳━━━━━━━━━━━━━━━━━━━┳━━━━━━━━━━━━┳━━━━━━━━━━━━━━━━━━━┓\n",
       "┃\u001b[1m \u001b[0m\u001b[1mLayer (type)       \u001b[0m\u001b[1m \u001b[0m┃\u001b[1m \u001b[0m\u001b[1mOutput Shape     \u001b[0m\u001b[1m \u001b[0m┃\u001b[1m \u001b[0m\u001b[1m   Param #\u001b[0m\u001b[1m \u001b[0m┃\u001b[1m \u001b[0m\u001b[1mConnected to     \u001b[0m\u001b[1m \u001b[0m┃\n",
       "┡━━━━━━━━━━━━━━━━━━━━━╇━━━━━━━━━━━━━━━━━━━╇━━━━━━━━━━━━╇━━━━━━━━━━━━━━━━━━━┩\n",
       "│ input_img           │ (\u001b[38;5;45mNone\u001b[0m, \u001b[38;5;34m100\u001b[0m, \u001b[38;5;34m100\u001b[0m,  │          \u001b[38;5;34m0\u001b[0m │ -                 │\n",
       "│ (\u001b[38;5;33mInputLayer\u001b[0m)        │ \u001b[38;5;34m3\u001b[0m)                │            │                   │\n",
       "├─────────────────────┼───────────────────┼────────────┼───────────────────┤\n",
       "│ validation_img      │ (\u001b[38;5;45mNone\u001b[0m, \u001b[38;5;34m100\u001b[0m, \u001b[38;5;34m100\u001b[0m,  │          \u001b[38;5;34m0\u001b[0m │ -                 │\n",
       "│ (\u001b[38;5;33mInputLayer\u001b[0m)        │ \u001b[38;5;34m3\u001b[0m)                │            │                   │\n",
       "├─────────────────────┼───────────────────┼────────────┼───────────────────┤\n",
       "│ embedding           │ (\u001b[38;5;45mNone\u001b[0m, \u001b[38;5;34m4096\u001b[0m)      │ \u001b[38;5;34m38,960,448\u001b[0m │ input_img[\u001b[38;5;34m0\u001b[0m][\u001b[38;5;34m0\u001b[0m],  │\n",
       "│ (\u001b[38;5;33mFunctional\u001b[0m)        │                   │            │ validation_img[\u001b[38;5;34m0\u001b[0m… │\n",
       "├─────────────────────┼───────────────────┼────────────┼───────────────────┤\n",
       "│ l1_dist_4 (\u001b[38;5;33mL1Dist\u001b[0m)  │ (\u001b[38;5;45mNone\u001b[0m, \u001b[38;5;34m4096\u001b[0m)      │          \u001b[38;5;34m0\u001b[0m │ embedding[\u001b[38;5;34m0\u001b[0m][\u001b[38;5;34m0\u001b[0m],  │\n",
       "│                     │                   │            │ embedding[\u001b[38;5;34m1\u001b[0m][\u001b[38;5;34m0\u001b[0m]   │\n",
       "├─────────────────────┼───────────────────┼────────────┼───────────────────┤\n",
       "│ dense_5 (\u001b[38;5;33mDense\u001b[0m)     │ (\u001b[38;5;45mNone\u001b[0m, \u001b[38;5;34m1\u001b[0m)         │      \u001b[38;5;34m4,097\u001b[0m │ l1_dist_4[\u001b[38;5;34m0\u001b[0m][\u001b[38;5;34m0\u001b[0m]   │\n",
       "└─────────────────────┴───────────────────┴────────────┴───────────────────┘\n"
      ]
     },
     "metadata": {},
     "output_type": "display_data"
    },
    {
     "data": {
      "text/html": [
       "<pre style=\"white-space:pre;overflow-x:auto;line-height:normal;font-family:Menlo,'DejaVu Sans Mono',consolas,'Courier New',monospace\"><span style=\"font-weight: bold\"> Total params: </span><span style=\"color: #00af00; text-decoration-color: #00af00\">38,964,545</span> (148.64 MB)\n",
       "</pre>\n"
      ],
      "text/plain": [
       "\u001b[1m Total params: \u001b[0m\u001b[38;5;34m38,964,545\u001b[0m (148.64 MB)\n"
      ]
     },
     "metadata": {},
     "output_type": "display_data"
    },
    {
     "data": {
      "text/html": [
       "<pre style=\"white-space:pre;overflow-x:auto;line-height:normal;font-family:Menlo,'DejaVu Sans Mono',consolas,'Courier New',monospace\"><span style=\"font-weight: bold\"> Trainable params: </span><span style=\"color: #00af00; text-decoration-color: #00af00\">38,964,545</span> (148.64 MB)\n",
       "</pre>\n"
      ],
      "text/plain": [
       "\u001b[1m Trainable params: \u001b[0m\u001b[38;5;34m38,964,545\u001b[0m (148.64 MB)\n"
      ]
     },
     "metadata": {},
     "output_type": "display_data"
    },
    {
     "data": {
      "text/html": [
       "<pre style=\"white-space:pre;overflow-x:auto;line-height:normal;font-family:Menlo,'DejaVu Sans Mono',consolas,'Courier New',monospace\"><span style=\"font-weight: bold\"> Non-trainable params: </span><span style=\"color: #00af00; text-decoration-color: #00af00\">0</span> (0.00 B)\n",
       "</pre>\n"
      ],
      "text/plain": [
       "\u001b[1m Non-trainable params: \u001b[0m\u001b[38;5;34m0\u001b[0m (0.00 B)\n"
      ]
     },
     "metadata": {},
     "output_type": "display_data"
    }
   ],
   "source": [
    "# view model summary\n",
    "model.summary()"
   ]
  },
  {
   "cell_type": "markdown",
   "id": "e212fdae-48ec-427f-a756-56351d51f8b4",
   "metadata": {},
   "source": [
    "## Real Test"
   ]
  },
  {
   "cell_type": "code",
   "execution_count": 554,
   "id": "6ff01d55-252e-4a4b-ab8b-c2f564609d75",
   "metadata": {},
   "outputs": [
    {
     "data": {
      "text/plain": [
       "['98ed2f92-dfe6-11ef-a856-de1356da0133.jpg',\n",
       " '67c4f0e8-dfe7-11ef-a856-de1356da0133.jpg',\n",
       " '5f20aad6-dfe7-11ef-a856-de1356da0133.jpg',\n",
       " '9e1726e4-dfe6-11ef-a856-de1356da0133.jpg',\n",
       " 'dd70259c-dfe7-11ef-a856-de1356da0133.jpg',\n",
       " 'df7c90dc-dfe7-11ef-a856-de1356da0133.jpg',\n",
       " '685d932a-dfe7-11ef-a856-de1356da0133.jpg',\n",
       " '6b1b5a0c-dfe7-11ef-a856-de1356da0133.jpg',\n",
       " 'e6adcdd6-dfe6-11ef-a856-de1356da0133.jpg',\n",
       " 'b7ecf9e4-dfe7-11ef-a856-de1356da0133.jpg',\n",
       " '11ef1ed2-dfe7-11ef-a856-de1356da0133.jpg',\n",
       " 'dd89dc94-dfe7-11ef-a856-de1356da0133.jpg',\n",
       " '50509cfa-dfe7-11ef-a856-de1356da0133.jpg',\n",
       " 'b25845c4-dfe7-11ef-a856-de1356da0133.jpg',\n",
       " '64dee794-dfe7-11ef-a856-de1356da0133.jpg',\n",
       " 'f3267b6c-dfe6-11ef-a856-de1356da0133.jpg',\n",
       " 'a0a68e86-dfe6-11ef-a856-de1356da0133.jpg',\n",
       " '9447709c-dfe6-11ef-a856-de1356da0133.jpg',\n",
       " '69bd22f4-dfe6-11ef-a856-de1356da0133.jpg',\n",
       " '3f7e42b0-dfe7-11ef-a856-de1356da0133.jpg',\n",
       " '639ec9a8-dfe7-11ef-a856-de1356da0133.jpg',\n",
       " '48a0d290-dfe7-11ef-a856-de1356da0133.jpg',\n",
       " 'cb0d0f78-dfe7-11ef-a856-de1356da0133.jpg',\n",
       " '551ac630-dfe6-11ef-a856-de1356da0133.jpg',\n",
       " 'b44a954e-dfe7-11ef-a856-de1356da0133.jpg',\n",
       " '78c547e4-dfe7-11ef-a856-de1356da0133.jpg',\n",
       " 'dafefd92-dfe7-11ef-a856-de1356da0133.jpg',\n",
       " 'e9b2a38a-dfe6-11ef-a856-de1356da0133.jpg',\n",
       " 'b3fe427a-dfe7-11ef-a856-de1356da0133.jpg',\n",
       " 'ad709f48-dfe7-11ef-a856-de1356da0133.jpg',\n",
       " '6684cea6-dfe7-11ef-a856-de1356da0133.jpg',\n",
       " 'd2b823c6-dfe6-11ef-a856-de1356da0133.jpg',\n",
       " '4c9eed50-dfe7-11ef-a856-de1356da0133.jpg',\n",
       " 'be98b940-dfe7-11ef-a856-de1356da0133.jpg',\n",
       " 'db656bb8-dfe7-11ef-a856-de1356da0133.jpg',\n",
       " '4cd1e9e4-dfe7-11ef-a856-de1356da0133.jpg',\n",
       " '72f42e62-dfe6-11ef-a856-de1356da0133.jpg',\n",
       " 'c1479012-dfe7-11ef-a856-de1356da0133.jpg',\n",
       " '4ec3d5fa-dfe7-11ef-a856-de1356da0133.jpg',\n",
       " 'e10942c4-dfe7-11ef-a856-de1356da0133.jpg',\n",
       " 'fb0e4de6-dfe6-11ef-a856-de1356da0133.jpg',\n",
       " 'b17da1a8-dfe7-11ef-a856-de1356da0133.jpg',\n",
       " '6c7f18e8-dfe7-11ef-a856-de1356da0133.jpg',\n",
       " 'c58299d8-dfe7-11ef-a856-de1356da0133.jpg',\n",
       " 'efbc4f10-dfe6-11ef-a856-de1356da0133.jpg',\n",
       " '7663110c-dfe7-11ef-a856-de1356da0133.jpg',\n",
       " '6d4a7b8c-dfe7-11ef-a856-de1356da0133.jpg',\n",
       " '5561d890-dfe6-11ef-a856-de1356da0133.jpg',\n",
       " '44c17de6-dfe7-11ef-a856-de1356da0133.jpg',\n",
       " 'd6b635d0-dfe6-11ef-a856-de1356da0133.jpg',\n",
       " 'cffa1e78-dfe6-11ef-a856-de1356da0133.jpg',\n",
       " '66b774b4-dfe7-11ef-a856-de1356da0133.jpg',\n",
       " '696b38d0-dfe7-11ef-a856-de1356da0133.jpg',\n",
       " 'b9c5e5fa-dfe7-11ef-a856-de1356da0133.jpg',\n",
       " '486e0f40-dfe7-11ef-a856-de1356da0133.jpg',\n",
       " '.DS_Store',\n",
       " 'd031c0a2-dfe7-11ef-a856-de1356da0133.jpg',\n",
       " 'a25bf824-dfe6-11ef-a856-de1356da0133.jpg',\n",
       " 'c6a95a36-dfe7-11ef-a856-de1356da0133.jpg',\n",
       " '670499c0-dfe6-11ef-a856-de1356da0133.jpg',\n",
       " 'fc444fb2-dfe6-11ef-a856-de1356da0133.jpg',\n",
       " '43444ade-dfe7-11ef-a856-de1356da0133.jpg',\n",
       " '4fb8315e-dfe7-11ef-a856-de1356da0133.jpg',\n",
       " 'cffec0ee-dfe7-11ef-a856-de1356da0133.jpg',\n",
       " '72c11aee-dfe7-11ef-a856-de1356da0133.jpg',\n",
       " 'b992e696-dfe7-11ef-a856-de1356da0133.jpg',\n",
       " '5fecf0e6-dfe7-11ef-a856-de1356da0133.jpg',\n",
       " '02a991be-dfe7-11ef-a856-de1356da0133.jpg',\n",
       " '56c5ac20-dfe6-11ef-a856-de1356da0133.jpg',\n",
       " 'ad3dadcc-dfe7-11ef-a856-de1356da0133.jpg',\n",
       " '0252ff34-dfe7-11ef-a856-de1356da0133.jpg',\n",
       " '9db68820-dfe6-11ef-a856-de1356da0133.jpg',\n",
       " '5373d118-dfe7-11ef-a856-de1356da0133.jpg',\n",
       " '7236abde-dfe7-11ef-a856-de1356da0133.jpg',\n",
       " '7cb47e52-dfe6-11ef-a856-de1356da0133.jpg',\n",
       " '4adf99d8-dfe7-11ef-a856-de1356da0133.jpg',\n",
       " '13d76290-dfe7-11ef-a856-de1356da0133.jpg',\n",
       " 'a9262854-dfe7-11ef-a856-de1356da0133.jpg',\n",
       " 'c89ba7cc-dfe7-11ef-a856-de1356da0133.jpg',\n",
       " '6511b9b2-dfe7-11ef-a856-de1356da0133.jpg',\n",
       " 'c1ad2d5a-dfe7-11ef-a856-de1356da0133.jpg',\n",
       " '9ddace74-dfe6-11ef-a856-de1356da0133.jpg',\n",
       " 'ccdc57ec-dfe6-11ef-a856-de1356da0133.jpg',\n",
       " 'a1079974-dfe6-11ef-a856-de1356da0133.jpg',\n",
       " 'a0097362-dfe6-11ef-a856-de1356da0133.jpg',\n",
       " 'b0e4e026-dfe7-11ef-a856-de1356da0133.jpg',\n",
       " 'e7a6e5d8-dfe6-11ef-a856-de1356da0133.jpg',\n",
       " 'e3b3220c-dfe6-11ef-a856-de1356da0133.jpg',\n",
       " 'efa2e14c-dfe6-11ef-a856-de1356da0133.jpg',\n",
       " '7008c19a-dfe6-11ef-a856-de1356da0133.jpg',\n",
       " '64047096-dfe7-11ef-a856-de1356da0133.jpg',\n",
       " 'd9bf6fd4-dfe7-11ef-a856-de1356da0133.jpg',\n",
       " 'd0fd12de-dfe7-11ef-a856-de1356da0133.jpg',\n",
       " 'e2497690-dfe7-11ef-a856-de1356da0133.jpg',\n",
       " '4b1291b2-dfe7-11ef-a856-de1356da0133.jpg',\n",
       " '4c05a1ae-dfe7-11ef-a856-de1356da0133.jpg',\n",
       " '496c4484-dfe7-11ef-a856-de1356da0133.jpg',\n",
       " '5fb9f27c-dfe7-11ef-a856-de1356da0133.jpg',\n",
       " '5e88f1aa-dfe7-11ef-a856-de1356da0133.jpg',\n",
       " '8dce191e-dfe6-11ef-a856-de1356da0133.jpg',\n",
       " '52a889f4-dfe7-11ef-a856-de1356da0133.jpg',\n",
       " 'caa7656a-dfe7-11ef-a856-de1356da0133.jpg',\n",
       " '976072ce-dfe6-11ef-a856-de1356da0133.jpg',\n",
       " '51c3bff4-dfe7-11ef-a856-de1356da0133.jpg',\n",
       " 'ea4615f2-dfe6-11ef-a856-de1356da0133.jpg',\n",
       " '52295cce-dfe7-11ef-a856-de1356da0133.jpg',\n",
       " '92c50fb8-dfe6-11ef-a856-de1356da0133.jpg',\n",
       " '6be6a23e-dfe7-11ef-a856-de1356da0133.jpg',\n",
       " 'cc85d2c8-dfe6-11ef-a856-de1356da0133.jpg',\n",
       " '4dac721c-dfe7-11ef-a856-de1356da0133.jpg',\n",
       " '8abf38ca-dfe6-11ef-a856-de1356da0133.jpg',\n",
       " 'ba5e26a8-dfe7-11ef-a856-de1356da0133.jpg',\n",
       " '777b8bc4-dfe6-11ef-a856-de1356da0133.jpg',\n",
       " 'dd3d4b5e-dfe7-11ef-a856-de1356da0133.jpg',\n",
       " 'af0c6184-dfe7-11ef-a856-de1356da0133.jpg',\n",
       " 'faf4e6f8-dfe6-11ef-a856-de1356da0133.jpg',\n",
       " 'b2bdedca-dfe7-11ef-a856-de1356da0133.jpg',\n",
       " '5eeebc74-dfe7-11ef-a856-de1356da0133.jpg',\n",
       " '615fedd4-dfe7-11ef-a856-de1356da0133.jpg',\n",
       " '5edb041e-dfe6-11ef-a856-de1356da0133.jpg',\n",
       " 'e0a3a446-dfe7-11ef-a856-de1356da0133.jpg',\n",
       " '53a6b0d8-dfe7-11ef-a856-de1356da0133.jpg',\n",
       " '0655ef60-dfe7-11ef-a856-de1356da0133.jpg',\n",
       " 'a069541c-dfe6-11ef-a856-de1356da0133.jpg',\n",
       " 'b3cb67b0-dfe7-11ef-a856-de1356da0133.jpg',\n",
       " '0e662eea-dfe7-11ef-a856-de1356da0133.jpg',\n",
       " 'b07f63f4-dfe7-11ef-a856-de1356da0133.jpg',\n",
       " '4f85563a-dfe7-11ef-a856-de1356da0133.jpg',\n",
       " '75b6b30e-dfe6-11ef-a856-de1356da0133.jpg',\n",
       " '76fbaf7a-dfe7-11ef-a856-de1356da0133.jpg',\n",
       " '72bc23a0-dfe6-11ef-a856-de1356da0133.jpg',\n",
       " '629141da-dfe7-11ef-a856-de1356da0133.jpg',\n",
       " '5cf22c6c-dfe7-11ef-a856-de1356da0133.jpg',\n",
       " 'ca0ec4cc-dfe7-11ef-a856-de1356da0133.jpg',\n",
       " 'dee41960-dfe7-11ef-a856-de1356da0133.jpg',\n",
       " 'c17a58da-dfe7-11ef-a856-de1356da0133.jpg',\n",
       " '6de3017c-dfe7-11ef-a856-de1356da0133.jpg',\n",
       " '515e14d8-dfe7-11ef-a856-de1356da0133.jpg',\n",
       " '6bb3a64a-dfe7-11ef-a856-de1356da0133.jpg',\n",
       " 'fbc53218-dfe6-11ef-a856-de1356da0133.jpg',\n",
       " '512b4e04-dfe7-11ef-a856-de1356da0133.jpg',\n",
       " '772e4c6e-dfe7-11ef-a856-de1356da0133.jpg',\n",
       " 'c212ad1a-dfe7-11ef-a856-de1356da0133.jpg',\n",
       " 'cbb4e8e2-dfe7-11ef-a856-de1356da0133.jpg',\n",
       " '53328b82-dfe6-11ef-a856-de1356da0133.jpg',\n",
       " '3cbb9410-dfe7-11ef-a856-de1356da0133.jpg',\n",
       " 'ee4e2734-dfe6-11ef-a856-de1356da0133.jpg',\n",
       " '9320b3c2-dfe6-11ef-a856-de1356da0133.jpg',\n",
       " '6ae87d26-dfe7-11ef-a856-de1356da0133.jpg',\n",
       " 'dacc7f3e-dfe7-11ef-a856-de1356da0133.jpg',\n",
       " 'cfdc0fd2-dfe6-11ef-a856-de1356da0133.jpg',\n",
       " 'c4ea1280-dfe7-11ef-a856-de1356da0133.jpg',\n",
       " 'af71d0aa-dfe7-11ef-a856-de1356da0133.jpg',\n",
       " 'fcb43502-dfe6-11ef-a856-de1356da0133.jpg',\n",
       " '66ea380e-dfe7-11ef-a856-de1356da0133.jpg',\n",
       " 'c4422bf6-dfe7-11ef-a856-de1356da0133.jpg',\n",
       " '4a3df6d8-dfe6-11ef-a856-de1356da0133.jpg',\n",
       " 'c3a9b7a4-dfe7-11ef-a856-de1356da0133.jpg',\n",
       " 'cd8d8fb6-dfe7-11ef-a856-de1356da0133.jpg',\n",
       " 'b14a7bfc-dfe7-11ef-a856-de1356da0133.jpg',\n",
       " '60b838aa-dfe7-11ef-a856-de1356da0133.jpg',\n",
       " '67e99958-dfe6-11ef-a856-de1356da0133.jpg',\n",
       " '1de3c116-dfe7-11ef-a856-de1356da0133.jpg',\n",
       " '7f62c4c4-dfe6-11ef-a856-de1356da0133.jpg',\n",
       " 'c2ab7586-dfe7-11ef-a856-de1356da0133.jpg',\n",
       " 'cc1a4426-dfe7-11ef-a856-de1356da0133.jpg',\n",
       " '483b4a06-dfe7-11ef-a856-de1356da0133.jpg',\n",
       " '53d97522-dfe7-11ef-a856-de1356da0133.jpg',\n",
       " '19fa4a34-dfe7-11ef-a856-de1356da0133.jpg',\n",
       " '65aa532a-dfe7-11ef-a856-de1356da0133.jpg',\n",
       " '77f9ba48-dfe7-11ef-a856-de1356da0133.jpg',\n",
       " 'fa2ec27a-dfe6-11ef-a856-de1356da0133.jpg',\n",
       " 'be65bd2e-dfe7-11ef-a856-de1356da0133.jpg',\n",
       " '6c4c6466-dfe7-11ef-a856-de1356da0133.jpg',\n",
       " 'c836008e-dfe7-11ef-a856-de1356da0133.jpg',\n",
       " 'cc4d349e-dfe7-11ef-a856-de1356da0133.jpg',\n",
       " 'dfc92bcc-dfe7-11ef-a856-de1356da0133.jpg',\n",
       " '719ea6fa-dfe6-11ef-a856-de1356da0133.jpg',\n",
       " '7836dc76-dfe6-11ef-a856-de1356da0133.jpg',\n",
       " 'c2de2076-dfe7-11ef-a856-de1356da0133.jpg',\n",
       " '850be9c8-dfe6-11ef-a856-de1356da0133.jpg',\n",
       " '867ef1b0-dfe6-11ef-a856-de1356da0133.jpg',\n",
       " '0561faae-dfe7-11ef-a856-de1356da0133.jpg',\n",
       " 'ec1ed166-dfe6-11ef-a856-de1356da0133.jpg',\n",
       " 'f6495ada-dfe6-11ef-a856-de1356da0133.jpg',\n",
       " '540c7242-dfe7-11ef-a856-de1356da0133.jpg',\n",
       " 'dbfde2e4-dfe7-11ef-a856-de1356da0133.jpg',\n",
       " 'b47d7a5e-dfe7-11ef-a856-de1356da0133.jpg',\n",
       " '789245f6-dfe7-11ef-a856-de1356da0133.jpg',\n",
       " '5d8ab73e-dfe7-11ef-a856-de1356da0133.jpg',\n",
       " '6544508e-dfe7-11ef-a856-de1356da0133.jpg',\n",
       " '01f28014-dfe7-11ef-a856-de1356da0133.jpg',\n",
       " '6a369f8e-dfe7-11ef-a856-de1356da0133.jpg',\n",
       " 'b5e134a8-dfe7-11ef-a856-de1356da0133.jpg',\n",
       " 'd2e03d1a-dfe7-11ef-a856-de1356da0133.jpg',\n",
       " 'd1629d98-dfe7-11ef-a856-de1356da0133.jpg',\n",
       " 'e90acac0-dfe6-11ef-a856-de1356da0133.jpg',\n",
       " '6cb1d986-dfe7-11ef-a856-de1356da0133.jpg',\n",
       " 'ad7fa7cc-dfe7-11ef-a856-de1356da0133.jpg',\n",
       " '50837ce2-dfe7-11ef-a856-de1356da0133.jpg',\n",
       " 'c676af14-dfe7-11ef-a856-de1356da0133.jpg',\n",
       " '45b5a7a4-dfe7-11ef-a856-de1356da0133.jpg',\n",
       " '8ad8a710-dfe6-11ef-a856-de1356da0133.jpg',\n",
       " '94fe5f64-dfe6-11ef-a856-de1356da0133.jpg',\n",
       " '6436e8f0-dfe7-11ef-a856-de1356da0133.jpg',\n",
       " 'b7b9fd96-dfe7-11ef-a856-de1356da0133.jpg',\n",
       " '5ebbdcc8-dfe7-11ef-a856-de1356da0133.jpg',\n",
       " '5c4b235a-dfe6-11ef-a856-de1356da0133.jpg',\n",
       " 'd0fde192-dfe6-11ef-a856-de1356da0133.jpg',\n",
       " '550aa9d4-dfe7-11ef-a856-de1356da0133.jpg',\n",
       " 'b57bafb6-dfe7-11ef-a856-de1356da0133.jpg',\n",
       " '4906c280-dfe7-11ef-a856-de1356da0133.jpg',\n",
       " '946b776c-dfe6-11ef-a856-de1356da0133.jpg',\n",
       " '699dcf02-dfe7-11ef-a856-de1356da0133.jpg',\n",
       " 'c86884a0-dfe7-11ef-a856-de1356da0133.jpg',\n",
       " 'd2579a2e-dfe6-11ef-a856-de1356da0133.jpg',\n",
       " 'cf6643be-dfe7-11ef-a856-de1356da0133.jpg',\n",
       " 'cbe77a6e-dfe7-11ef-a856-de1356da0133.jpg',\n",
       " '6a9c09fa-dfe7-11ef-a856-de1356da0133.jpg',\n",
       " '3e3903e0-dfe7-11ef-a856-de1356da0133.jpg',\n",
       " '6192ea4a-dfe7-11ef-a856-de1356da0133.jpg',\n",
       " 'd2dbdd52-dfe6-11ef-a856-de1356da0133.jpg',\n",
       " '6a693138-dfe7-11ef-a856-de1356da0133.jpg',\n",
       " '189654a8-dfe7-11ef-a856-de1356da0133.jpg',\n",
       " 'b0b20dc2-dfe7-11ef-a856-de1356da0133.jpg',\n",
       " '63d15b48-dfe7-11ef-a856-de1356da0133.jpg',\n",
       " '52db7e0e-dfe7-11ef-a856-de1356da0133.jpg',\n",
       " '4601ee02-dfe7-11ef-a856-de1356da0133.jpg',\n",
       " '6d7d429c-dfe7-11ef-a856-de1356da0133.jpg',\n",
       " 'c3dc6186-dfe7-11ef-a856-de1356da0133.jpg',\n",
       " 'd0ca20fe-dfe7-11ef-a856-de1356da0133.jpg',\n",
       " 'cd5b003c-dfe7-11ef-a856-de1356da0133.jpg',\n",
       " '52431eca-dfe7-11ef-a856-de1356da0133.jpg',\n",
       " 'ceba3bb0-dfe6-11ef-a856-de1356da0133.jpg',\n",
       " 'aed9673e-dfe7-11ef-a856-de1356da0133.jpg',\n",
       " 'c245c5ec-dfe7-11ef-a856-de1356da0133.jpg',\n",
       " '6a038856-dfe7-11ef-a856-de1356da0133.jpg',\n",
       " '6b4e020e-dfe7-11ef-a856-de1356da0133.jpg',\n",
       " 'd0974292-dfe7-11ef-a856-de1356da0133.jpg',\n",
       " '4fead596-dfe7-11ef-a856-de1356da0133.jpg',\n",
       " '51f68dd0-dfe7-11ef-a856-de1356da0133.jpg',\n",
       " 'cdf32e52-dfe7-11ef-a856-de1356da0133.jpg',\n",
       " '501dfa84-dfe7-11ef-a856-de1356da0133.jpg',\n",
       " 'b91e0ae2-dfe7-11ef-a856-de1356da0133.jpg',\n",
       " '89df5a5c-dfe6-11ef-a856-de1356da0133.jpg',\n",
       " '61f87ae0-dfe7-11ef-a856-de1356da0133.jpg',\n",
       " 'cdc083f8-dfe7-11ef-a856-de1356da0133.jpg',\n",
       " '8d02a8b0-dfe6-11ef-a856-de1356da0133.jpg',\n",
       " '782cb8ee-dfe7-11ef-a856-de1356da0133.jpg',\n",
       " 'c74204fc-dfe7-11ef-a856-de1356da0133.jpg',\n",
       " 'b5aeaf42-dfe7-11ef-a856-de1356da0133.jpg',\n",
       " 'f2933cf8-dfe6-11ef-a856-de1356da0133.jpg',\n",
       " 'b9f8a0c6-dfe7-11ef-a856-de1356da0133.jpg',\n",
       " '4d56de2a-dfe6-11ef-a856-de1356da0133.jpg',\n",
       " '5243b3a4-dfe6-11ef-a856-de1356da0133.jpg',\n",
       " 'dd0b34a2-dfe7-11ef-a856-de1356da0133.jpg',\n",
       " 'd31306fa-dfe7-11ef-a856-de1356da0133.jpg',\n",
       " 'b2f0e73e-dfe7-11ef-a856-de1356da0133.jpg',\n",
       " 'd1ba1402-dfe6-11ef-a856-de1356da0133.jpg',\n",
       " 'b61430e2-dfe7-11ef-a856-de1356da0133.jpg',\n",
       " 'e0d6869a-dfe7-11ef-a856-de1356da0133.jpg',\n",
       " 'a8f36e8c-dfe7-11ef-a856-de1356da0133.jpg',\n",
       " 'c6dc22ae-dfe7-11ef-a856-de1356da0133.jpg',\n",
       " 'e2ba06b8-dfe6-11ef-a856-de1356da0133.jpg',\n",
       " '625e63be-dfe7-11ef-a856-de1356da0133.jpg',\n",
       " 'c3111a44-dfe7-11ef-a856-de1356da0133.jpg',\n",
       " '69d0b1f6-dfe7-11ef-a856-de1356da0133.jpg',\n",
       " 'e16efd80-dfe7-11ef-a856-de1356da0133.jpg',\n",
       " '0ee0664c-dfe7-11ef-a856-de1356da0133.jpg',\n",
       " '4e9124d4-dfe7-11ef-a856-de1356da0133.jpg',\n",
       " '49d25be8-dfe7-11ef-a856-de1356da0133.jpg',\n",
       " '77c7119c-dfe7-11ef-a856-de1356da0133.jpg',\n",
       " '56376e06-dfe6-11ef-a856-de1356da0133.jpg',\n",
       " 'c51d0bea-dfe7-11ef-a856-de1356da0133.jpg',\n",
       " 'c376aa12-dfe7-11ef-a856-de1356da0133.jpg',\n",
       " 'c8ce4efc-dfe7-11ef-a856-de1356da0133.jpg',\n",
       " '543f762e-dfe7-11ef-a856-de1356da0133.jpg',\n",
       " 'fd8ecb9a-dfe6-11ef-a856-de1356da0133.jpg',\n",
       " 'f8c5b722-dfe6-11ef-a856-de1356da0133.jpg',\n",
       " 'e2af8584-dfe7-11ef-a856-de1356da0133.jpg',\n",
       " '3df6c44e-dfe7-11ef-a856-de1356da0133.jpg',\n",
       " '661ed4d4-dfe7-11ef-a856-de1356da0133.jpg',\n",
       " 'd1301fd0-dfe7-11ef-a856-de1356da0133.jpg',\n",
       " 'b7548920-dfe7-11ef-a856-de1356da0133.jpg',\n",
       " '7c90c124-dfe6-11ef-a856-de1356da0133.jpg',\n",
       " '4e2bae06-dfe7-11ef-a856-de1356da0133.jpg',\n",
       " '622b4c72-dfe7-11ef-a856-de1356da0133.jpg',\n",
       " '682abc70-dfe7-11ef-a856-de1356da0133.jpg',\n",
       " '8d261c5a-dfe6-11ef-a856-de1356da0133.jpg',\n",
       " 'f2563eac-dfe6-11ef-a856-de1356da0133.jpg',\n",
       " '5190f25e-dfe7-11ef-a856-de1356da0133.jpg',\n",
       " '4939999e-dfe7-11ef-a856-de1356da0133.jpg',\n",
       " 'e7ca8db2-dfe6-11ef-a856-de1356da0133.jpg',\n",
       " 'd9f22f28-dfe7-11ef-a856-de1356da0133.jpg',\n",
       " '48d3bd54-dfe7-11ef-a856-de1356da0133.jpg',\n",
       " 'f4eb24f2-dfe6-11ef-a856-de1356da0133.jpg',\n",
       " 'd247f2d0-dfe7-11ef-a856-de1356da0133.jpg',\n",
       " 'deb13fd6-dfe7-11ef-a856-de1356da0133.jpg',\n",
       " 'cd93582a-dfe6-11ef-a856-de1356da0133.jpg',\n",
       " '65774ea8-dfe7-11ef-a856-de1356da0133.jpg',\n",
       " 'e13c2cfc-dfe7-11ef-a856-de1356da0133.jpg',\n",
       " 'b117c464-dfe7-11ef-a856-de1356da0133.jpg',\n",
       " '785f65aa-dfe7-11ef-a856-de1356da0133.jpg',\n",
       " '5d3f3634-dfe6-11ef-a856-de1356da0133.jpg',\n",
       " 'b646d9b6-dfe7-11ef-a856-de1356da0133.jpg',\n",
       " 'fd5be766-dfe6-11ef-a856-de1356da0133.jpg',\n",
       " 'cc8049ec-dfe7-11ef-a856-de1356da0133.jpg',\n",
       " '927dd774-dfe6-11ef-a856-de1356da0133.jpg',\n",
       " '4b45070a-dfe7-11ef-a856-de1356da0133.jpg',\n",
       " '9d653bfa-dfe6-11ef-a856-de1356da0133.jpg',\n",
       " '601fa324-dfe7-11ef-a856-de1356da0133.jpg',\n",
       " '5a8b9ef0-dfe6-11ef-a856-de1356da0133.jpg',\n",
       " 'c343b71a-dfe7-11ef-a856-de1356da0133.jpg',\n",
       " 'f9a035be-dfe6-11ef-a856-de1356da0133.jpg',\n",
       " '50f864bc-dfe7-11ef-a856-de1356da0133.jpg',\n",
       " '54f73562-dfe6-11ef-a856-de1356da0133.jpg',\n",
       " '3f1da20c-dfe7-11ef-a856-de1356da0133.jpg',\n",
       " 'adcc2192-dfe7-11ef-a856-de1356da0133.jpg',\n",
       " '61c59de6-dfe7-11ef-a856-de1356da0133.jpg',\n",
       " 'ccf4dd20-dfe7-11ef-a856-de1356da0133.jpg',\n",
       " 'db981e0a-dfe7-11ef-a856-de1356da0133.jpg',\n",
       " 'b28aed76-dfe7-11ef-a856-de1356da0133.jpg',\n",
       " 'b7874f68-dfe7-11ef-a856-de1356da0133.jpg',\n",
       " 'ba9135ca-dfe7-11ef-a856-de1356da0133.jpg',\n",
       " '6c1967f0-dfe7-11ef-a856-de1356da0133.jpg',\n",
       " '4667a53a-dfe7-11ef-a856-de1356da0133.jpg',\n",
       " 'ca4173e0-dfe7-11ef-a856-de1356da0133.jpg',\n",
       " 'a8c02b08-dfe7-11ef-a856-de1356da0133.jpg',\n",
       " '0693349c-dfe7-11ef-a856-de1356da0133.jpg',\n",
       " '77940162-dfe7-11ef-a856-de1356da0133.jpg',\n",
       " '93e6ad84-dfe6-11ef-a856-de1356da0133.jpg',\n",
       " '6b80eaca-dfe7-11ef-a856-de1356da0133.jpg',\n",
       " '7bcb0d94-dfe6-11ef-a856-de1356da0133.jpg',\n",
       " 'af3f2dbc-dfe7-11ef-a856-de1356da0133.jpg',\n",
       " 'e389f0fc-dfe7-11ef-a856-de1356da0133.jpg',\n",
       " '4e5e5144-dfe7-11ef-a856-de1356da0133.jpg',\n",
       " 'd06499e6-dfe7-11ef-a856-de1356da0133.jpg',\n",
       " '0db412c8-dfe7-11ef-a856-de1356da0133.jpg',\n",
       " '4634ce62-dfe7-11ef-a856-de1356da0133.jpg',\n",
       " 'cd32db4e-dfe6-11ef-a856-de1356da0133.jpg',\n",
       " 'c70f1f2e-dfe7-11ef-a856-de1356da0133.jpg',\n",
       " '6651ade6-dfe7-11ef-a856-de1356da0133.jpg',\n",
       " 'f0b551fa-dfe6-11ef-a856-de1356da0133.jpg',\n",
       " '4c38e03c-dfe7-11ef-a856-de1356da0133.jpg',\n",
       " '4a7a0e7e-dfe7-11ef-a856-de1356da0133.jpg',\n",
       " 'c4b73cfc-dfe7-11ef-a856-de1356da0133.jpg',\n",
       " 'e27c7fea-dfe7-11ef-a856-de1356da0133.jpg',\n",
       " 'b4b041c8-dfe7-11ef-a856-de1356da0133.jpg',\n",
       " 'cfcbfd1c-dfe7-11ef-a856-de1356da0133.jpg',\n",
       " '4df8bbc2-dfe7-11ef-a856-de1356da0133.jpg',\n",
       " '97cb6f0c-dfe6-11ef-a856-de1356da0133.jpg',\n",
       " '60529bf8-dfe7-11ef-a856-de1356da0133.jpg',\n",
       " '5f877afe-dfe7-11ef-a856-de1356da0133.jpg',\n",
       " '54a4ef36-dfe7-11ef-a856-de1356da0133.jpg',\n",
       " '5f542352-dfe7-11ef-a856-de1356da0133.jpg',\n",
       " 'a82822ae-dfe7-11ef-a856-de1356da0133.jpg',\n",
       " 'ce8c0b40-dfe7-11ef-a856-de1356da0133.jpg',\n",
       " 'd2ad4d7e-dfe7-11ef-a856-de1356da0133.jpg',\n",
       " '726998fa-dfe7-11ef-a856-de1356da0133.jpg',\n",
       " 'b679a9e0-dfe7-11ef-a856-de1356da0133.jpg',\n",
       " 'df174614-dfe7-11ef-a856-de1356da0133.jpg',\n",
       " 'f3b4ede8-dfe6-11ef-a856-de1356da0133.jpg',\n",
       " 'c54fa974-dfe7-11ef-a856-de1356da0133.jpg',\n",
       " '636bb05e-dfe7-11ef-a856-de1356da0133.jpg',\n",
       " '4c6c16aa-dfe7-11ef-a856-de1356da0133.jpg',\n",
       " '6d17ade2-dfe7-11ef-a856-de1356da0133.jpg',\n",
       " 'ca74945a-dfe7-11ef-a856-de1356da0133.jpg',\n",
       " '5340f716-dfe7-11ef-a856-de1356da0133.jpg',\n",
       " '9e77b3ec-dfe6-11ef-a856-de1356da0133.jpg',\n",
       " '78c09aec-dfe6-11ef-a856-de1356da0133.jpg',\n",
       " 'ce261ad8-dfe7-11ef-a856-de1356da0133.jpg',\n",
       " 'ba2b51d8-dfe7-11ef-a856-de1356da0133.jpg',\n",
       " '67f7cc34-dfe7-11ef-a856-de1356da0133.jpg',\n",
       " 'b8527e68-dfe7-11ef-a856-de1356da0133.jpg',\n",
       " 'cb81d9e8-dfe7-11ef-a856-de1356da0133.jpg',\n",
       " 'cebe9aec-dfe7-11ef-a856-de1356da0133.jpg',\n",
       " '6085780c-dfe7-11ef-a856-de1356da0133.jpg',\n",
       " 'e5e28cfc-dfe6-11ef-a856-de1356da0133.jpg',\n",
       " 'f9026d66-dfe6-11ef-a856-de1356da0133.jpg',\n",
       " 'e216a634-dfe7-11ef-a856-de1356da0133.jpg',\n",
       " '6ee190d4-dfe7-11ef-a856-de1356da0133.jpg',\n",
       " '4bd2b8e8-dfe7-11ef-a856-de1356da0133.jpg',\n",
       " 'b548bcf0-dfe7-11ef-a856-de1356da0133.jpg',\n",
       " '4aacb086-dfe7-11ef-a856-de1356da0133.jpg',\n",
       " '527595d0-dfe7-11ef-a856-de1356da0133.jpg',\n",
       " '7dcc20d8-dfe6-11ef-a856-de1356da0133.jpg',\n",
       " '6aced1a0-dfe7-11ef-a856-de1356da0133.jpg',\n",
       " 'c278681c-dfe7-11ef-a856-de1356da0133.jpg',\n",
       " 'c7e914e0-dfe7-11ef-a856-de1356da0133.jpg',\n",
       " 'cada2c48-dfe7-11ef-a856-de1356da0133.jpg',\n",
       " 'c5b56d54-dfe7-11ef-a856-de1356da0133.jpg',\n",
       " 'c07c1522-dfe7-11ef-a856-de1356da0133.jpg',\n",
       " '4ae066e8-dfe6-11ef-a856-de1356da0133.jpg',\n",
       " 'db31d7e4-dfe7-11ef-a856-de1356da0133.jpg',\n",
       " 'c901582e-dfe7-11ef-a856-de1356da0133.jpg',\n",
       " 'a88d9fe4-dfe7-11ef-a856-de1356da0133.jpg',\n",
       " 'd1dd5fb6-dfe6-11ef-a856-de1356da0133.jpg',\n",
       " 'da24b434-dfe7-11ef-a856-de1356da0133.jpg',\n",
       " 'dbcac508-dfe7-11ef-a856-de1356da0133.jpg',\n",
       " '04b5098e-dfe7-11ef-a856-de1356da0133.jpg',\n",
       " 'c9342768-dfe7-11ef-a856-de1356da0133.jpg',\n",
       " '02ff94c4-dfe7-11ef-a856-de1356da0133.jpg',\n",
       " 'e1e51aa2-dfe6-11ef-a856-de1356da0133.jpg',\n",
       " '07aa9014-dfe7-11ef-a856-de1356da0133.jpg',\n",
       " 'd411523c-dfe7-11ef-a856-de1356da0133.jpg',\n",
       " 'b5154014-dfe7-11ef-a856-de1356da0133.jpg',\n",
       " 'a27ff0a8-dfe6-11ef-a856-de1356da0133.jpg',\n",
       " '734fc7c2-dfe6-11ef-a856-de1356da0133.jpg',\n",
       " 'f75cac38-dfe6-11ef-a856-de1356da0133.jpg',\n",
       " '89a26caa-dfe6-11ef-a856-de1356da0133.jpg',\n",
       " '6e48d16e-dfe7-11ef-a856-de1356da0133.jpg',\n",
       " 'cf996a3c-dfe7-11ef-a856-de1356da0133.jpg',\n",
       " '8d628a1e-dfe6-11ef-a856-de1356da0133.jpg',\n",
       " 'f6302286-dfe6-11ef-a856-de1356da0133.jpg',\n",
       " 'a85acc86-dfe7-11ef-a856-de1356da0133.jpg',\n",
       " 'df49e9e8-dfe7-11ef-a856-de1356da0133.jpg',\n",
       " '530506a8-dfe6-11ef-a856-de1356da0133.jpg',\n",
       " '741602b6-dfe6-11ef-a856-de1356da0133.jpg',\n",
       " 'ce58c76c-dfe7-11ef-a856-de1356da0133.jpg']"
      ]
     },
     "execution_count": 554,
     "metadata": {},
     "output_type": "execute_result"
    }
   ],
   "source": [
    "os.listdir(os.path.join('application_data','verification_images'))"
   ]
  },
  {
   "cell_type": "code",
   "execution_count": 563,
   "id": "6066efaa-d332-4d31-980b-95996b8e5105",
   "metadata": {},
   "outputs": [],
   "source": [
    "def verify(model,detection_threshold,verification_threshold):\n",
    "    #Build results array\n",
    "    results=[]\n",
    "    for image in os.listdir(os.path.join('application_data','verification_images')):\n",
    "        input_img=preprocess(os.path.join('application_data','input_image','input_image.jpg'))\n",
    "        validation_img=preprocess(os.path.join('application_data','verification_images',image))\n",
    "\n",
    "        # Make Predictions\n",
    "        result=model.predict(list(np.expand_dims([input_img,validation_img],axis=1)))\n",
    "        results.append(result)\n",
    "\n",
    "    # Detection Threshold: Metric above which a prediction is considered positive\n",
    "        detection=np.sum(np.array(results) > detection_threshold)\n",
    "        # Verification Threshold: Proportion of positive predictions/ total positive samples\n",
    "        verification=detection/len(os.listdir(os.path.join('application_data','verification_images')))\n",
    "        verified=verification > verification_threshold\n",
    "\n",
    "        return results,verified\n",
    "\n"
   ]
  },
  {
   "cell_type": "markdown",
   "id": "cc3161bb-7569-4658-a1a2-1991f5d7297c",
   "metadata": {},
   "source": [
    "## OpenCV Real Time Verification"
   ]
  },
  {
   "cell_type": "code",
   "execution_count": 565,
   "id": "83357edf-3805-487d-a5ae-9813812e0495",
   "metadata": {},
   "outputs": [
    {
     "name": "stdout",
     "output_type": "stream",
     "text": [
      "\u001b[1m1/1\u001b[0m \u001b[32m━━━━━━━━━━━━━━━━━━━━\u001b[0m\u001b[37m\u001b[0m \u001b[1m0s\u001b[0m 236ms/step\n",
      "False\n",
      "\u001b[1m1/1\u001b[0m \u001b[32m━━━━━━━━━━━━━━━━━━━━\u001b[0m\u001b[37m\u001b[0m \u001b[1m0s\u001b[0m 161ms/step\n",
      "False\n"
     ]
    }
   ],
   "source": [
    "cap = cv2.VideoCapture(0)\n",
    "while cap.isOpened():\n",
    "    ret, frame = cap.read()\n",
    "    frame=frame[100:100+250,600:600+250, :]\n",
    "    \n",
    "    cv2.imshow('Verification', frame)\n",
    "    \n",
    "    # Verification trigger\n",
    "    if cv2.waitKey(10) & 0xFF == ord('v'):\n",
    "        # Save input image to application_data/input_image folder \n",
    "        cv2.imwrite(os.path.join('application_data', 'input_image','input_image.jpg'), frame)\n",
    "        # Run verification\n",
    "        results, verified = verify(model, 0.9, 0.7)\n",
    "        print(verified)\n",
    "    \n",
    "    if cv2.waitKey(10) & 0xFF == ord('q'):\n",
    "        break\n",
    "cap.release()\n",
    "cv2.destroyAllWindows()"
   ]
  },
  {
   "cell_type": "code",
   "execution_count": 573,
   "id": "dd7642b7-f1fa-4f6d-a2a9-e66429a540ac",
   "metadata": {},
   "outputs": [
    {
     "data": {
      "text/plain": [
       "1"
      ]
     },
     "execution_count": 573,
     "metadata": {},
     "output_type": "execute_result"
    }
   ],
   "source": [
    "np.sum(np.squeeze(results) > 0.6)"
   ]
  },
  {
   "cell_type": "code",
   "execution_count": null,
   "id": "00ef978d-2133-488c-98e5-f6a1c543f341",
   "metadata": {},
   "outputs": [],
   "source": []
  }
 ],
 "metadata": {
  "kernelspec": {
   "display_name": "Python [conda env:base] *",
   "language": "python",
   "name": "conda-base-py"
  },
  "language_info": {
   "codemirror_mode": {
    "name": "ipython",
    "version": 3
   },
   "file_extension": ".py",
   "mimetype": "text/x-python",
   "name": "python",
   "nbconvert_exporter": "python",
   "pygments_lexer": "ipython3",
   "version": "3.12.7"
  }
 },
 "nbformat": 4,
 "nbformat_minor": 5
}
